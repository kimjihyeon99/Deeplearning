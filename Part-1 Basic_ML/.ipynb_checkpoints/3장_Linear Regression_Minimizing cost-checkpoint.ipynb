{
 "cells": [
  {
   "cell_type": "code",
   "execution_count": 1,
   "metadata": {},
   "outputs": [],
   "source": [
    "import tensorflow as tf\n",
    "import numpy as np"
   ]
  },
  {
   "cell_type": "code",
   "execution_count": 2,
   "metadata": {},
   "outputs": [
    {
     "name": "stdout",
     "output_type": "stream",
     "text": [
      "-3.000 |   74.66667\n",
      "-2.429 |   54.85714\n",
      "-1.857 |   38.09524\n",
      "-1.286 |   24.38095\n",
      "-0.714 |   13.71429\n",
      "-0.143 |    6.09524\n",
      " 0.429 |    1.52381\n",
      " 1.000 |    0.00000\n",
      " 1.571 |    1.52381\n",
      " 2.143 |    6.09524\n",
      " 2.714 |   13.71429\n",
      " 3.286 |   24.38095\n",
      " 3.857 |   38.09524\n",
      " 4.429 |   54.85714\n",
      " 5.000 |   74.66667\n"
     ]
    }
   ],
   "source": [
    "#Simplifed hypothesis\n",
    "X= np.array([1,2,3])\n",
    "Y= np.array([1,2,3])\n",
    "\n",
    "def cost_func(W,X,Y):\n",
    "    c=0\n",
    "    for i in range(len(X)):\n",
    "        c+=(W*X[i] - Y[i])**2\n",
    "    return c / len(X)\n",
    "\n",
    "for feed_W in np.linspace(-3, 5, num=15):\n",
    "    curr_cost = cost_func(feed_W,X,Y)\n",
    "    print(\"{:6.3f} | {:10.5f}\".format(feed_W, curr_cost))"
   ]
  },
  {
   "cell_type": "code",
   "execution_count": 7,
   "metadata": {},
   "outputs": [
    {
     "name": "stdout",
     "output_type": "stream",
     "text": [
      "-3.000 |   74.66667\n",
      "-2.429 |   54.85714\n",
      "-1.857 |   38.09524\n",
      "-1.286 |   24.38095\n",
      "-0.714 |   13.71429\n",
      "-0.143 |    6.09524\n",
      " 0.429 |    1.52381\n",
      " 1.000 |    0.00000\n",
      " 1.571 |    1.52381\n",
      " 2.143 |    6.09524\n",
      " 2.714 |   13.71429\n",
      " 3.286 |   24.38095\n",
      " 3.857 |   38.09524\n",
      " 4.429 |   54.85714\n",
      " 5.000 |   74.66667\n"
     ]
    }
   ],
   "source": [
    "#텐서플로우로 Cost function구해보기\n",
    "X= np.array([1,2,3])\n",
    "Y= np.array([1,2,3])\n",
    "\n",
    "def cost_func(W,X,Y):\n",
    "    hypothesis = W*X\n",
    "    #return 값으로 tf 을 사용해 평균값 반환\n",
    "    return tf.reduce_mean(tf.square(hypothesis-Y))\n",
    "\n",
    "W_values=np.linspace(-3,5,num=15)\n",
    "cost_values=[]\n",
    "\n",
    "for feed_W in W_values:\n",
    "    curr_cost = cost_func(feed_W,X,Y)\n",
    "    cost_values.append(curr_cost)\n",
    "    print(\"{:6.3f} | {:10.5f}\".format(feed_W, curr_cost))"
   ]
  },
  {
   "cell_type": "code",
   "execution_count": 8,
   "metadata": {},
   "outputs": [],
   "source": [
    "import matplotlib.pyplot as plt\n",
    "plt.rcParams[\"figure.figsize\"] = (8,6)"
   ]
  },
  {
   "cell_type": "code",
   "execution_count": 9,
   "metadata": {
    "scrolled": true
   },
   "outputs": [
    {
     "data": {
      "image/png": "[encoded data removed]",
      "text/plain": [
       "<Figure size 576x432 with 1 Axes>"
      ]
     },
     "metadata": {
      "needs_background": "light"
     },
     "output_type": "display_data"
    }
   ],
   "source": [
    "plt.plot(W_values,cost_values,\"b\")\n",
    "plt.ylabel(\"cost(W)\")\n",
    "plt.xlabel(\"W\")\n",
    "plt.show()"
   ]
  },
  {
   "cell_type": "code",
   "execution_count": 10,
   "metadata": {},
   "outputs": [],
   "source": [
    "#Minimizing Cost\n",
    "#Gradient descent algorithm\n",
    "tf.random.set_seed(0) #나중에도 같은 값 나오도록 seed설정"
   ]
  },
  {
   "cell_type": "code",
   "execution_count": 13,
   "metadata": {},
   "outputs": [
    {
     "name": "stdout",
     "output_type": "stream",
     "text": [
      "    0 | 369568.2812 | -267.280273\n",
      "   10 | 142098.7500 | -165.355255\n",
      "   20 | 54636.8750 | -102.153580\n",
      "   30 | 21007.8379 | -62.963478\n",
      "   40 |  8077.4995 | -38.662479\n",
      "   50 |  3105.7939 | -23.593918\n",
      "   60 |  1194.1759 | -14.250199\n",
      "   70 |   459.1598 |  -8.456345\n",
      "   80 |   176.5466 |  -4.863691\n",
      "   90 |    67.8821 |  -2.635958\n",
      "  100 |    26.1006 |  -1.254585\n",
      "  110 |    10.0357 |  -0.398023\n",
      "  120 |     3.8587 |   0.133113\n",
      "  130 |     1.4837 |   0.462461\n",
      "  140 |     0.5705 |   0.666683\n",
      "  150 |     0.2193 |   0.793317\n",
      "  160 |     0.0843 |   0.871840\n",
      "  170 |     0.0324 |   0.920530\n",
      "  180 |     0.0125 |   0.950722\n",
      "  190 |     0.0048 |   0.969444\n",
      "  200 |     0.0018 |   0.981053\n",
      "  210 |     0.0007 |   0.988251\n",
      "  220 |     0.0003 |   0.992715\n",
      "  230 |     0.0001 |   0.995483\n",
      "  240 |     0.0000 |   0.997199\n",
      "  250 |     0.0000 |   0.998263\n",
      "  260 |     0.0000 |   0.998923\n",
      "  270 |     0.0000 |   0.999332\n",
      "  280 |     0.0000 |   0.999586\n",
      "  290 |     0.0000 |   0.999743\n"
     ]
    }
   ],
   "source": [
    "W= tf.Variable(tf.random.normal((1,), -100.,100.))#정규 분포를 따르는 random num를 하나(1,) -100과 100사이\n",
    "\n",
    "for step in range(300):\n",
    "    hypothesis= W*X\n",
    "    cost = tf.reduce_mean(tf.square(hypothesis-Y))\n",
    "    \n",
    "    alpha= 0.01\n",
    "    gradient = tf.reduce_mean(tf.multiply(tf.multiply(W,X)-Y,X))\n",
    "    \n",
    "    #tf.multiply는 원소 곱 #같은 행렬에 있는것만 계산\n",
    "    #tf.matual은 행렬곱\n",
    "    \n",
    "    descent = W-tf.multiply(alpha, gradient)\n",
    "    W.assign(descent)#assign은 변수의 값을 바꾸는 메소드, W의 값을 descent로 바꾸자\n",
    "    \n",
    "    if step % 10 == 0:\n",
    "        print('{:5} | {:10.4f} | {:10.6f}'.format(step, cost.numpy(), W.numpy()[0]))"
   ]
  },
  {
   "cell_type": "code",
   "execution_count": 14,
   "metadata": {},
   "outputs": [
    {
     "name": "stdout",
     "output_type": "stream",
     "text": [
      "tf.Tensor([4.999165], shape=(1,), dtype=float32)\n",
      "tf.Tensor([2.4995825], shape=(1,), dtype=float32)\n"
     ]
    }
   ],
   "source": [
    "#내려올수록 cost는 0으로 줄어들고, W는 1에 수렴\n",
    "print(5.0*W)\n",
    "print(2.5*W)"
   ]
  },
  {
   "cell_type": "code",
   "execution_count": null,
   "metadata": {},
   "outputs": [],
   "source": []
  }
 ],
 "metadata": {
  "kernelspec": {
   "display_name": "Python 3",
   "language": "python",
   "name": "python3"
  },
  "language_info": {
   "codemirror_mode": {
    "name": "ipython",
    "version": 3
   },
   "file_extension": ".py",
   "mimetype": "text/x-python",
   "name": "python",
   "nbconvert_exporter": "python",
   "pygments_lexer": "ipython3",
   "version": "3.8.5"
  }
 },
 "nbformat": 4,
 "nbformat_minor": 4
}
