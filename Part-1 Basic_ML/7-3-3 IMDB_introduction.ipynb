{
 "cells": [
  {
   "cell_type": "markdown",
   "metadata": {},
   "source": [
    "# 7-3-3 IMDB_introduction\n",
    "\n",
    " -IMDB 실습"
   ]
  },
  {
   "cell_type": "code",
   "execution_count": 1,
   "metadata": {},
   "outputs": [],
   "source": [
    "import numpy as np\n",
    "import tensorflow as tf\n",
    "from tensorflow import keras\n",
    "\n",
    "tf.random.set_seed(777)  # for reproducibility"
   ]
  },
  {
   "cell_type": "code",
   "execution_count": 2,
   "metadata": {},
   "outputs": [
    {
     "name": "stdout",
     "output_type": "stream",
     "text": [
      "Downloading data from https://storage.googleapis.com/tensorflow/tf-keras-datasets/imdb.npz\n",
      "17465344/17464789 [==============================] - 2s 0us/step\n"
     ]
    },
    {
     "name": "stderr",
     "output_type": "stream",
     "text": [
      "<__array_function__ internals>:5: VisibleDeprecationWarning: Creating an ndarray from ragged nested sequences (which is a list-or-tuple of lists-or-tuples-or ndarrays with different lengths or shapes) is deprecated. If you meant to do this, you must specify 'dtype=object' when creating the ndarray\n",
      "C:\\Users\\c\\anaconda3\\lib\\site-packages\\tensorflow\\python\\keras\\datasets\\imdb.py:159: VisibleDeprecationWarning: Creating an ndarray from ragged nested sequences (which is a list-or-tuple of lists-or-tuples-or ndarrays with different lengths or shapes) is deprecated. If you meant to do this, you must specify 'dtype=object' when creating the ndarray\n",
      "  x_train, y_train = np.array(xs[:idx]), np.array(labels[:idx])\n"
     ]
    },
    {
     "name": "stdout",
     "output_type": "stream",
     "text": [
      "Training entries: 25000, labels: 25000\n",
      "[1, 14, 22, 16, 43, 530, 973, 1622, 1385, 65, 458, 4468, 66, 3941, 4, 173, 36, 256, 5, 25, 100, 43, 838, 112, 50, 670, 2, 9, 35, 480, 284, 5, 150, 4, 172, 112, 167, 2, 336, 385, 39, 4, 172, 4536, 1111, 17, 546, 38, 13, 447, 4, 192, 50, 16, 6, 147, 2025, 19, 14, 22, 4, 1920, 4613, 469, 4, 22, 71, 87, 12, 16, 43, 530, 38, 76, 15, 13, 1247, 4, 22, 17, 515, 17, 12, 16, 626, 18, 2, 5, 62, 386, 12, 8, 316, 8, 106, 5, 4, 2223, 5244, 16, 480, 66, 3785, 33, 4, 130, 12, 16, 38, 619, 5, 25, 124, 51, 36, 135, 48, 25, 1415, 33, 6, 22, 12, 215, 28, 77, 52, 5, 14, 407, 16, 82, 2, 8, 4, 107, 117, 5952, 15, 256, 4, 2, 7, 3766, 5, 723, 36, 71, 43, 530, 476, 26, 400, 317, 46, 7, 4, 2, 1029, 13, 104, 88, 4, 381, 15, 297, 98, 32, 2071, 56, 26, 141, 6, 194, 7486, 18, 4, 226, 22, 21, 134, 476, 26, 480, 5, 144, 30, 5535, 18, 51, 36, 28, 224, 92, 25, 104, 4, 226, 65, 16, 38, 1334, 88, 12, 16, 283, 5, 16, 4472, 113, 103, 32, 15, 16, 5345, 19, 178, 32]\n"
     ]
    },
    {
     "name": "stderr",
     "output_type": "stream",
     "text": [
      "C:\\Users\\c\\anaconda3\\lib\\site-packages\\tensorflow\\python\\keras\\datasets\\imdb.py:160: VisibleDeprecationWarning: Creating an ndarray from ragged nested sequences (which is a list-or-tuple of lists-or-tuples-or ndarrays with different lengths or shapes) is deprecated. If you meant to do this, you must specify 'dtype=object' when creating the ndarray\n",
      "  x_test, y_test = np.array(xs[idx:]), np.array(labels[idx:])\n"
     ]
    }
   ],
   "source": [
    "#학습에 쓰이는 데이터 : 50,000 movie reviews from the Internet Movie Database\n",
    "imdb = keras.datasets.imdb\n",
    "(train_data, train_labels), (test_data, test_labels) = imdb.load_data(num_words=10000)\n",
    "print(\"Training entries: {}, labels: {}\".format(len(train_data), len(train_labels)))\n",
    "print(train_data[0])"
   ]
  },
  {
   "cell_type": "code",
   "execution_count": 4,
   "metadata": {},
   "outputs": [
    {
     "name": "stdout",
     "output_type": "stream",
     "text": [
      "Downloading data from https://storage.googleapis.com/tensorflow/tf-keras-datasets/imdb_word_index.json\n",
      "1646592/1641221 [==============================] - 0s 0us/step\n"
     ]
    },
    {
     "data": {
      "text/plain": [
       "\"<START> worst mistake of my life br br i picked this movie up at target for 5 because i figured hey it's sandler i can get some cheap laughs i was wrong completely wrong mid way through the film all three of my friends were asleep and i was still suffering worst plot worst script worst movie i have ever seen i wanted to hit my head up against a wall for an hour then i'd stop and you know why because it felt damn good upon bashing my head in i stuck that damn movie in the <UNK> and watched it burn and that felt better than anything else i've ever done it took american psycho army of darkness and kill bill just to get over that crap i hate you sandler for actually going through with this and ruining a whole day of my life\""
      ]
     },
     "execution_count": 4,
     "metadata": {},
     "output_type": "execute_result"
    }
   ],
   "source": [
    "#IMDB 데이터를 실제값으로 변환하여 출력\n",
    "#A dictionary mapping words to an integer index\n",
    "word_index = imdb.get_word_index()\n",
    "\n",
    "# The first indices are reserved\n",
    "word_index = {k:(v+3) for k,v in word_index.items()}\n",
    "word_index[\"<PAD>\"] = 0\n",
    "word_index[\"<START>\"] = 1\n",
    "word_index[\"<UNK>\"] = 2  # unknown\n",
    "word_index[\"<UNUSED>\"] = 3\n",
    "\n",
    "reverse_word_index = dict([(value, key) for (key, value) in word_index.items()])\n",
    "\n",
    "def decode_review(text):\n",
    "    return ' '.join([reverse_word_index.get(i, '?') for i in text])\n",
    "\n",
    "decode_review(train_data[4])"
   ]
  },
  {
   "cell_type": "code",
   "execution_count": 5,
   "metadata": {},
   "outputs": [
    {
     "name": "stdout",
     "output_type": "stream",
     "text": [
      "0\n"
     ]
    }
   ],
   "source": [
    "print(train_labels[4])"
   ]
  },
  {
   "cell_type": "code",
   "execution_count": 6,
   "metadata": {},
   "outputs": [
    {
     "name": "stdout",
     "output_type": "stream",
     "text": [
      "256 256\n",
      "[   1   14   22   16   43  530  973 1622 1385   65  458 4468   66 3941\n",
      "    4  173   36  256    5   25  100   43  838  112   50  670    2    9\n",
      "   35  480  284    5  150    4  172  112  167    2  336  385   39    4\n",
      "  172 4536 1111   17  546   38   13  447    4  192   50   16    6  147\n",
      " 2025   19   14   22    4 1920 4613  469    4   22   71   87   12   16\n",
      "   43  530   38   76   15   13 1247    4   22   17  515   17   12   16\n",
      "  626   18    2    5   62  386   12    8  316    8  106    5    4 2223\n",
      " 5244   16  480   66 3785   33    4  130   12   16   38  619    5   25\n",
      "  124   51   36  135   48   25 1415   33    6   22   12  215   28   77\n",
      "   52    5   14  407   16   82    2    8    4  107  117 5952   15  256\n",
      "    4    2    7 3766    5  723   36   71   43  530  476   26  400  317\n",
      "   46    7    4    2 1029   13  104   88    4  381   15  297   98   32\n",
      " 2071   56   26  141    6  194 7486   18    4  226   22   21  134  476\n",
      "   26  480    5  144   30 5535   18   51   36   28  224   92   25  104\n",
      "    4  226   65   16   38 1334   88   12   16  283    5   16 4472  113\n",
      "  103   32   15   16 5345   19  178   32    0    0    0    0    0    0\n",
      "    0    0    0    0    0    0    0    0    0    0    0    0    0    0\n",
      "    0    0    0    0    0    0    0    0    0    0    0    0    0    0\n",
      "    0    0    0    0]\n"
     ]
    }
   ],
   "source": [
    "#Tensorflow Keras\n",
    "#위데이터 기준으로 분류 모델을 만듦- 256길이의 단어로 PAD값을 주어 맞춰줌\n",
    "train_data = keras.preprocessing.sequence.pad_sequences(train_data,\n",
    "                                                        value=word_index[\"<PAD>\"],\n",
    "                                                        padding='post',\n",
    "                                                        maxlen=256)\n",
    "\n",
    "test_data = keras.preprocessing.sequence.pad_sequences(test_data,\n",
    "                                                       value=word_index[\"<PAD>\"],\n",
    "                                                       padding='post',\n",
    "                                                       maxlen=256)\n",
    "\n",
    "print(len(train_data[0]), len(test_data[0]))\n",
    "print(train_data[0])"
   ]
  },
  {
   "cell_type": "code",
   "execution_count": 7,
   "metadata": {},
   "outputs": [
    {
     "name": "stdout",
     "output_type": "stream",
     "text": [
      "Model: \"sequential\"\n",
      "_________________________________________________________________\n",
      "Layer (type)                 Output Shape              Param #   \n",
      "=================================================================\n",
      "embedding (Embedding)        (None, None, 16)          160000    \n",
      "_________________________________________________________________\n",
      "global_average_pooling1d (Gl (None, 16)                0         \n",
      "_________________________________________________________________\n",
      "dense (Dense)                (None, 16)                272       \n",
      "_________________________________________________________________\n",
      "dense_1 (Dense)              (None, 1)                 17        \n",
      "=================================================================\n",
      "Total params: 160,289\n",
      "Trainable params: 160,289\n",
      "Non-trainable params: 0\n",
      "_________________________________________________________________\n"
     ]
    }
   ],
   "source": [
    "#Tensorflow keras API를 통해 모델에 대한 정의\n",
    "#입력 size 학습시킬 layer 크기와 Activation 함수 정의\n",
    "vocab_size = 10000\n",
    "\n",
    "model = keras.Sequential()\n",
    "model.add(keras.layers.Embedding(vocab_size, 16))\n",
    "model.add(keras.layers.GlobalAveragePooling1D())\n",
    "model.add(keras.layers.Dense(16, activation=tf.nn.relu))\n",
    "model.add(keras.layers.Dense(1, activation=tf.nn.sigmoid))\n",
    "\n",
    "model.summary()"
   ]
  },
  {
   "cell_type": "code",
   "execution_count": 8,
   "metadata": {},
   "outputs": [],
   "source": [
    "#Adam Optimizer와 Cross Entropy loss선언\n",
    "model.compile(optimizer='adam',\n",
    "              loss='binary_crossentropy',\n",
    "              metrics=['accuracy'])"
   ]
  },
  {
   "cell_type": "code",
   "execution_count": 9,
   "metadata": {},
   "outputs": [
    {
     "name": "stdout",
     "output_type": "stream",
     "text": [
      "Epoch 1/40\n",
      "30/30 [==============================] - 7s 184ms/step - loss: 0.6928 - accuracy: 0.5008 - val_loss: 0.6906 - val_accuracy: 0.6589\n",
      "Epoch 2/40\n",
      "30/30 [==============================] - 1s 34ms/step - loss: 0.6889 - accuracy: 0.7048 - val_loss: 0.6835 - val_accuracy: 0.7414\n",
      "Epoch 3/40\n",
      "30/30 [==============================] - 1s 34ms/step - loss: 0.6795 - accuracy: 0.7546 - val_loss: 0.6693 - val_accuracy: 0.7444\n",
      "Epoch 4/40\n",
      "30/30 [==============================] - 1s 34ms/step - loss: 0.6618 - accuracy: 0.7722 - val_loss: 0.6461 - val_accuracy: 0.7646\n",
      "Epoch 5/40\n",
      "30/30 [==============================] - 1s 33ms/step - loss: 0.6329 - accuracy: 0.7828 - val_loss: 0.6132 - val_accuracy: 0.7778\n",
      "Epoch 6/40\n",
      "30/30 [==============================] - 1s 33ms/step - loss: 0.5962 - accuracy: 0.7970 - val_loss: 0.5741 - val_accuracy: 0.7979\n",
      "Epoch 7/40\n",
      "30/30 [==============================] - 1s 36ms/step - loss: 0.5495 - accuracy: 0.8162 - val_loss: 0.5312 - val_accuracy: 0.8146\n",
      "Epoch 8/40\n",
      "30/30 [==============================] - 1s 36ms/step - loss: 0.5014 - accuracy: 0.8367 - val_loss: 0.4910 - val_accuracy: 0.8277\n",
      "Epoch 9/40\n",
      "30/30 [==============================] - 1s 33ms/step - loss: 0.4588 - accuracy: 0.8490 - val_loss: 0.4512 - val_accuracy: 0.8405\n",
      "Epoch 10/40\n",
      "30/30 [==============================] - 1s 34ms/step - loss: 0.4146 - accuracy: 0.8691 - val_loss: 0.4191 - val_accuracy: 0.8479\n",
      "Epoch 11/40\n",
      "30/30 [==============================] - 1s 36ms/step - loss: 0.3853 - accuracy: 0.8705 - val_loss: 0.3924 - val_accuracy: 0.8562\n",
      "Epoch 12/40\n",
      "30/30 [==============================] - 1s 33ms/step - loss: 0.3481 - accuracy: 0.8866 - val_loss: 0.3711 - val_accuracy: 0.8621\n",
      "Epoch 13/40\n",
      "30/30 [==============================] - 1s 33ms/step - loss: 0.3248 - accuracy: 0.8927 - val_loss: 0.3548 - val_accuracy: 0.8660\n",
      "Epoch 14/40\n",
      "30/30 [==============================] - 1s 40ms/step - loss: 0.2993 - accuracy: 0.9010 - val_loss: 0.3406 - val_accuracy: 0.8706\n",
      "Epoch 15/40\n",
      "30/30 [==============================] - 1s 35ms/step - loss: 0.2845 - accuracy: 0.9033 - val_loss: 0.3292 - val_accuracy: 0.8719\n",
      "Epoch 16/40\n",
      "30/30 [==============================] - 1s 34ms/step - loss: 0.2701 - accuracy: 0.9060 - val_loss: 0.3197 - val_accuracy: 0.8757\n",
      "Epoch 17/40\n",
      "30/30 [==============================] - 1s 38ms/step - loss: 0.2567 - accuracy: 0.9137 - val_loss: 0.3124 - val_accuracy: 0.8777\n",
      "Epoch 18/40\n",
      "30/30 [==============================] - 1s 35ms/step - loss: 0.2425 - accuracy: 0.9182 - val_loss: 0.3060 - val_accuracy: 0.8792\n",
      "Epoch 19/40\n",
      "30/30 [==============================] - 1s 35ms/step - loss: 0.2293 - accuracy: 0.9200 - val_loss: 0.3010 - val_accuracy: 0.8802\n",
      "Epoch 20/40\n",
      "30/30 [==============================] - 1s 35ms/step - loss: 0.2178 - accuracy: 0.9237 - val_loss: 0.2971 - val_accuracy: 0.8822\n",
      "Epoch 21/40\n",
      "30/30 [==============================] - 1s 39ms/step - loss: 0.2148 - accuracy: 0.9267 - val_loss: 0.2941 - val_accuracy: 0.8826\n",
      "Epoch 22/40\n",
      "30/30 [==============================] - 1s 35ms/step - loss: 0.2026 - accuracy: 0.9325 - val_loss: 0.2905 - val_accuracy: 0.8835\n",
      "Epoch 23/40\n",
      "30/30 [==============================] - 1s 34ms/step - loss: 0.1911 - accuracy: 0.9338 - val_loss: 0.2885 - val_accuracy: 0.8839\n",
      "Epoch 24/40\n",
      "30/30 [==============================] - 1s 34ms/step - loss: 0.1853 - accuracy: 0.9372 - val_loss: 0.2869 - val_accuracy: 0.8843\n",
      "Epoch 25/40\n",
      "30/30 [==============================] - 1s 33ms/step - loss: 0.1779 - accuracy: 0.9416 - val_loss: 0.2861 - val_accuracy: 0.8843\n",
      "Epoch 26/40\n",
      "30/30 [==============================] - 1s 34ms/step - loss: 0.1647 - accuracy: 0.9493 - val_loss: 0.2855 - val_accuracy: 0.8846\n",
      "Epoch 27/40\n",
      "30/30 [==============================] - 1s 34ms/step - loss: 0.1595 - accuracy: 0.9498 - val_loss: 0.2853 - val_accuracy: 0.8855\n",
      "Epoch 28/40\n",
      "30/30 [==============================] - 1s 35ms/step - loss: 0.1550 - accuracy: 0.9515 - val_loss: 0.2852 - val_accuracy: 0.8851\n",
      "Epoch 29/40\n",
      "30/30 [==============================] - 1s 33ms/step - loss: 0.1513 - accuracy: 0.9544 - val_loss: 0.2855 - val_accuracy: 0.8860\n",
      "Epoch 30/40\n",
      "30/30 [==============================] - 1s 36ms/step - loss: 0.1439 - accuracy: 0.9572 - val_loss: 0.2868 - val_accuracy: 0.8853\n",
      "Epoch 31/40\n",
      "30/30 [==============================] - 1s 35ms/step - loss: 0.1370 - accuracy: 0.9602 - val_loss: 0.2872 - val_accuracy: 0.8856\n",
      "Epoch 32/40\n",
      "30/30 [==============================] - 1s 33ms/step - loss: 0.1310 - accuracy: 0.9611 - val_loss: 0.2888 - val_accuracy: 0.8863\n",
      "Epoch 33/40\n",
      "30/30 [==============================] - 1s 35ms/step - loss: 0.1325 - accuracy: 0.9625 - val_loss: 0.2900 - val_accuracy: 0.8861\n",
      "Epoch 34/40\n",
      "30/30 [==============================] - 1s 34ms/step - loss: 0.1247 - accuracy: 0.9643 - val_loss: 0.2922 - val_accuracy: 0.8854\n",
      "Epoch 35/40\n",
      "30/30 [==============================] - 1s 33ms/step - loss: 0.1196 - accuracy: 0.9658 - val_loss: 0.2945 - val_accuracy: 0.8831\n",
      "Epoch 36/40\n",
      "30/30 [==============================] - 1s 34ms/step - loss: 0.1162 - accuracy: 0.9681 - val_loss: 0.2963 - val_accuracy: 0.8844\n",
      "Epoch 37/40\n",
      "30/30 [==============================] - 1s 33ms/step - loss: 0.1045 - accuracy: 0.9706 - val_loss: 0.2985 - val_accuracy: 0.8843\n",
      "Epoch 38/40\n",
      "30/30 [==============================] - 1s 36ms/step - loss: 0.1031 - accuracy: 0.9711 - val_loss: 0.3007 - val_accuracy: 0.8839\n",
      "Epoch 39/40\n",
      "30/30 [==============================] - 1s 34ms/step - loss: 0.1041 - accuracy: 0.9714 - val_loss: 0.3045 - val_accuracy: 0.8835\n",
      "Epoch 40/40\n",
      "30/30 [==============================] - 1s 34ms/step - loss: 0.0999 - accuracy: 0.9728 - val_loss: 0.3063 - val_accuracy: 0.8826\n"
     ]
    }
   ],
   "source": [
    "#모델을 평가할 test데이터에 대한 정의\n",
    "x_val = train_data[:10000]\n",
    "partial_x_train = train_data[10000:]\n",
    "\n",
    "y_val = train_labels[:10000]\n",
    "partial_y_train = train_labels[10000:]\n",
    "\n",
    "history = model.fit(partial_x_train,\n",
    "                    partial_y_train,\n",
    "                    epochs=40,\n",
    "                    batch_size=512,\n",
    "                    validation_data=(x_val, y_val),\n",
    "                    verbose=1)"
   ]
  },
  {
   "cell_type": "code",
   "execution_count": 10,
   "metadata": {},
   "outputs": [
    {
     "name": "stdout",
     "output_type": "stream",
     "text": [
      "782/782 [==============================] - 1s 2ms/step - loss: 0.3261 - accuracy: 0.8730\n",
      "[0.3261282742023468, 0.8729599714279175]\n"
     ]
    }
   ],
   "source": [
    "results = model.evaluate(test_data, test_labels)\n",
    "print(results)"
   ]
  }
 ],
 "metadata": {
  "kernelspec": {
   "display_name": "Python 3",
   "language": "python",
   "name": "python3"
  },
  "language_info": {
   "codemirror_mode": {
    "name": "ipython",
    "version": 3
   },
   "file_extension": ".py",
   "mimetype": "text/x-python",
   "name": "python",
   "nbconvert_exporter": "python",
   "pygments_lexer": "ipython3",
   "version": "3.8.5"
  }
 },
 "nbformat": 4,
 "nbformat_minor": 4
}
