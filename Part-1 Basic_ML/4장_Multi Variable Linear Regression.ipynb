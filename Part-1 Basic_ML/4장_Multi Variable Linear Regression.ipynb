{
 "cells": [
  {
   "cell_type": "code",
   "execution_count": 1,
   "metadata": {},
   "outputs": [],
   "source": [
    "import tensorflow as tf\n",
    "import numpy as np"
   ]
  },
  {
   "cell_type": "code",
   "execution_count": 2,
   "metadata": {},
   "outputs": [],
   "source": [
    "tf.random.set_seed(0) #계산값이 동일하도록 seed값 설정"
   ]
  },
  {
   "cell_type": "code",
   "execution_count": 3,
   "metadata": {},
   "outputs": [],
   "source": [
    "x1=[1,0,3,0,5]\n",
    "x2=[0,2,0,4,0]\n",
    "y =[1,2,3,4,5]"
   ]
  },
  {
   "cell_type": "code",
   "execution_count": 4,
   "metadata": {},
   "outputs": [],
   "source": [
    "W1=tf.Variable(tf.random.uniform((1,),-10.0,10.0))#균등한 형태로 -10부터 10사이 랜덤변수 설정\n",
    "\n",
    "W2=tf.Variable(tf.random.uniform((1,),-10.0,10.0))\n",
    "b =tf.Variable(tf.random.uniform((1,),-10.0,10.0))"
   ]
  },
  {
   "cell_type": "code",
   "execution_count": 5,
   "metadata": {},
   "outputs": [],
   "source": [
    "learning_rate = tf.Variable(0.001) #"
   ]
  },
  {
   "cell_type": "code",
   "execution_count": 7,
   "metadata": {},
   "outputs": [
    {
     "name": "stdout",
     "output_type": "stream",
     "text": [
      "    0 | 335.280823 |    -4.0663 |     1.1220 |  -6.065215\n",
      "   50 |  76.037262 |    -0.8001 |     1.6209 |  -4.978779\n",
      "  100 |  18.959263 |     0.7151 |     1.8781 |  -4.429109\n",
      "  150 |   6.310240 |     1.4125 |     2.0104 |  -4.134423\n",
      "  200 |   3.445082 |     1.7284 |     2.0768 |  -3.961648\n",
      "  250 |   2.743659 |     1.8667 |     2.1075 |  -3.847750\n",
      "  300 |   2.525401 |     1.9225 |     2.1184 |  -3.762738\n",
      "  350 |   2.417754 |     1.9402 |     2.1181 |  -3.692262\n",
      "  400 |   2.337300 |     1.9403 |     2.1114 |  -3.629400\n",
      "  450 |   2.264998 |     1.9325 |     2.1008 |  -3.570778\n",
      "  500 |   2.196328 |     1.9213 |     2.0881 |  -3.514729\n",
      "  550 |   2.130126 |     1.9085 |     2.0741 |  -3.460409\n",
      "  600 |   2.066037 |     1.8953 |     2.0595 |  -3.407385\n",
      "  650 |   2.003917 |     1.8819 |     2.0444 |  -3.355424\n",
      "  700 |   1.943679 |     1.8686 |     2.0293 |  -3.304398\n",
      "  750 |   1.885258 |     1.8555 |     2.0141 |  -3.254230\n",
      "  800 |   1.828595 |     1.8425 |     1.9990 |  -3.204873\n",
      "  850 |   1.773636 |     1.8297 |     1.9841 |  -3.156293\n",
      "  900 |   1.720329 |     1.8171 |     1.9693 |  -3.108468\n",
      "  950 |   1.668625 |     1.8048 |     1.9547 |  -3.061379\n",
      " 1000 |   1.618474 |     1.7926 |     1.9403 |  -3.015011\n"
     ]
    }
   ],
   "source": [
    "for i in range(1000+1):\n",
    "    with tf.GradientTape() as tape:\n",
    "        hypothesis = W1 * x1 + W2*x2+b\n",
    "        cost = tf.reduce_mean(tf.square(hypothesis-y))\n",
    "    W1_grad, W2_grad, b_grad =tape.gradient(cost, [W1,W2,b])\n",
    "    W1.assign_sub(learning_rate *W1_grad)\n",
    "    W2.assign_sub(learning_rate *W2_grad)\n",
    "    b.assign_sub(learning_rate*b_grad)\n",
    "    \n",
    "    if i%50 ==0:\n",
    "        print(\"{:5} | {:10.6f} | {:10.4f} | {:10.4f} | {:10.6f}\".format(\n",
    "          i, cost.numpy(), W1.numpy()[0], W2.numpy()[0], b.numpy()[0]))"
   ]
  },
  {
   "cell_type": "code",
   "execution_count": 8,
   "metadata": {},
   "outputs": [],
   "source": [
    "#행렬식 \n",
    "tf.random.set_seed(0)"
   ]
  },
  {
   "cell_type": "code",
   "execution_count": 9,
   "metadata": {},
   "outputs": [],
   "source": [
    "x=[\n",
    "    [1.,0.,3.,0.,5.],\n",
    "    [0.,2.,0.,4.,0.]\n",
    "]\n",
    "y=[1,2,3,4,5]"
   ]
  },
  {
   "cell_type": "code",
   "execution_count": 10,
   "metadata": {},
   "outputs": [],
   "source": [
    "W= tf.Variable(tf.random.uniform((1,2),-1.0,1.0))#1행 2열\n",
    "b= tf.Variable(tf.random.uniform((1,),-1.0,1.0))"
   ]
  },
  {
   "cell_type": "code",
   "execution_count": 11,
   "metadata": {},
   "outputs": [],
   "source": [
    "learning_rate= tf.Variable(0.001)"
   ]
  },
  {
   "cell_type": "code",
   "execution_count": 12,
   "metadata": {},
   "outputs": [
    {
     "name": "stdout",
     "output_type": "stream",
     "text": [
      "    0 |  23.134184 |    -0.3966 |    -0.5744 |   0.119513\n",
      "   50 |   6.508003 |     0.2697 |    -0.0835 |   0.432979\n",
      "  100 |   2.081481 |     0.5703 |     0.2227 |   0.592919\n",
      "  150 |   0.781385 |     0.7041 |     0.4163 |   0.674131\n",
      "  200 |   0.356422 |     0.7630 |     0.5401 |   0.714079\n",
      "  250 |   0.203022 |     0.7885 |     0.6203 |   0.731887\n",
      "  300 |   0.142676 |     0.7998 |     0.6729 |   0.737534\n",
      "  350 |   0.116850 |     0.8052 |     0.7079 |   0.736357\n",
      "  400 |   0.104565 |     0.8083 |     0.7317 |   0.731283\n",
      "  450 |   0.097798 |     0.8106 |     0.7483 |   0.723961\n",
      "  500 |   0.093349 |     0.8129 |     0.7601 |   0.715342\n",
      "  550 |   0.089912 |     0.8151 |     0.7690 |   0.705988\n",
      "  600 |   0.086945 |     0.8175 |     0.7758 |   0.696237\n",
      "  650 |   0.084221 |     0.8200 |     0.7814 |   0.686294\n",
      "  700 |   0.081643 |     0.8225 |     0.7861 |   0.676286\n",
      "  750 |   0.079170 |     0.8250 |     0.7903 |   0.666293\n",
      "  800 |   0.076782 |     0.8276 |     0.7940 |   0.656363\n",
      "  850 |   0.074471 |     0.8301 |     0.7976 |   0.646527\n",
      "  900 |   0.072231 |     0.8327 |     0.8009 |   0.636804\n",
      "  950 |   0.070060 |     0.8352 |     0.8040 |   0.627204\n",
      " 1000 |   0.067954 |     0.8376 |     0.8071 |   0.617734\n"
     ]
    }
   ],
   "source": [
    "for i in range(1000+1):\n",
    "    with tf.GradientTape() as tape:\n",
    "        hypothesis =tf.matmul(W,x) +b\n",
    "        cost = tf.reduce_mean(tf.square(hypothesis-y))\n",
    "        \n",
    "        W_grad, b_grad = tape.gradient(cost, [W,b])\n",
    "        W.assign_sub(learning_rate*W_grad)\n",
    "        b.assign_sub(learning_rate*b_grad)\n",
    "        \n",
    "    if i%50 ==0:\n",
    "        print(\"{:5} | {:10.6f} | {:10.4f} | {:10.4f} | {:10.6f}\".format(\n",
    "          i, cost.numpy(), W.numpy()[0][0], W.numpy()[0][1],b.numpy()[0]))"
   ]
  },
  {
   "cell_type": "code",
   "execution_count": 13,
   "metadata": {},
   "outputs": [],
   "source": [
    "#Hypothesis에 bias를 넣는다면\n",
    "X=[\n",
    "    [1.,1.,1.,1.,1.],\n",
    "    [1.,0.,3.,0.,5.],\n",
    "    [0.,2.,0.,4.,0.]\n",
    "]\n",
    "y=[1,2,3,4,5]"
   ]
  },
  {
   "cell_type": "code",
   "execution_count": 17,
   "metadata": {},
   "outputs": [
    {
     "name": "stdout",
     "output_type": "stream",
     "text": [
      "    0 |  16.019751 |    -0.1985 |     0.3424 |    -0.6835\n",
      "   50 |   5.635924 |     0.0582 |     0.6809 |    -0.1215\n",
      "  100 |   2.141112 |     0.1997 |     0.8238 |     0.2356\n",
      "  150 |   0.862825 |     0.2786 |     0.8808 |     0.4641\n",
      "  200 |   0.367090 |     0.3227 |     0.9015 |     0.6112\n",
      "  250 |   0.167513 |     0.3468 |     0.9074 |     0.7064\n",
      "  300 |   0.085210 |     0.3593 |     0.9082 |     0.7684\n",
      "  350 |   0.050615 |     0.3649 |     0.9074 |     0.8090\n",
      "  400 |   0.035731 |     0.3663 |     0.9067 |     0.8359\n",
      "  450 |   0.029064 |     0.3651 |     0.9063 |     0.8539\n",
      "  500 |   0.025846 |     0.3624 |     0.9064 |     0.8661\n",
      "  550 |   0.024085 |     0.3587 |     0.9069 |     0.8746\n",
      "  600 |   0.022948 |     0.3544 |     0.9076 |     0.8807\n",
      "  650 |   0.022085 |     0.3497 |     0.9086 |     0.8852\n",
      "  700 |   0.021348 |     0.3449 |     0.9097 |     0.8887\n",
      "  750 |   0.020676 |     0.3400 |     0.9109 |     0.8916\n",
      "  800 |   0.020042 |     0.3350 |     0.9121 |     0.8940\n",
      "  850 |   0.019434 |     0.3301 |     0.9133 |     0.8960\n",
      "  900 |   0.018848 |     0.3252 |     0.9146 |     0.8979\n",
      "  950 |   0.018280 |     0.3203 |     0.9158 |     0.8997\n",
      " 1000 |   0.017730 |     0.3155 |     0.9171 |     0.9013\n"
     ]
    }
   ],
   "source": [
    "W = tf.Variable(tf.random.uniform((1, 3), -1.0, 1.0)) # [1, 3]의 틀을 만들고 bias를 없앰\n",
    "\n",
    "learning_rate = 0.001\n",
    "optimizer = tf.keras.optimizers.SGD(learning_rate) # 갑분 케라스...?\n",
    "    # SGD는 확률적 경사하강법으로 keras로 정말 간단하게 쓸 수 있음\n",
    "\n",
    "for i in range(1000+1):\n",
    "    with tf.GradientTape() as tape:\n",
    "        hypothesis = tf.matmul(W, X) # W와 X를 Matrix 곱 / 여기서는 b를 신경 안 씀\n",
    "        cost = tf.reduce_mean(tf.square(hypothesis - y))\n",
    "    \n",
    "    # W의 기울기를 구해보면?\n",
    "    grads = tape.gradient(cost, [W])\n",
    "    optimizer.apply_gradients(grads_and_vars = zip(grads,[W]))\n",
    "    \n",
    "    if i % 50 == 0: # 50번씩 마다 아래로 내려감\n",
    "        print(\"{:5} | {:10.6f} | {: 10.4f} | {: 10.4f} | {:10.4f}\".format(\n",
    "        i, cost.numpy(), W.numpy()[0][0], W.numpy()[0][1], W.numpy()[0][2]))"
   ]
  },
  {
   "cell_type": "code",
   "execution_count": 18,
   "metadata": {},
   "outputs": [],
   "source": [
    "tf.random.set_seed(0) # 값 고정"
   ]
  },
  {
   "cell_type": "code",
   "execution_count": 19,
   "metadata": {},
   "outputs": [],
   "source": [
    "#x값 라벨링\n",
    "x1 = [73., 93., 89., 96., 73.]\n",
    "x2 = [80., 88., 91., 98., 66.]\n",
    "x3 = [75., 93., 90., 100., 70.]\n",
    "y = [152., 185., 180., 196., 142.]"
   ]
  },
  {
   "cell_type": "code",
   "execution_count": 21,
   "metadata": {},
   "outputs": [],
   "source": [
    "#weight 초기 값설정\n",
    "w1 = tf.Variable(10.)\n",
    "w2 = tf.Variable(10.)\n",
    "w3 = tf.Variable(10.)\n",
    "wb = tf.Variable(10.)"
   ]
  },
  {
   "cell_type": "code",
   "execution_count": 22,
   "metadata": {},
   "outputs": [
    {
     "name": "stdout",
     "output_type": "stream",
     "text": [
      "    0 | 5749149.0000\n",
      "   50 |       1.6824\n",
      "  100 |       1.6430\n",
      "  150 |       1.6046\n",
      "  200 |       1.5672\n",
      "  250 |       1.5308\n",
      "  300 |       1.4954\n",
      "  350 |       1.4609\n",
      "  400 |       1.4274\n",
      "  450 |       1.3947\n",
      "  500 |       1.3629\n",
      "  550 |       1.3320\n",
      "  600 |       1.3019\n",
      "  650 |       1.2726\n",
      "  700 |       1.2440\n",
      "  750 |       1.2162\n",
      "  800 |       1.1892\n",
      "  850 |       1.1629\n",
      "  900 |       1.1373\n",
      "  950 |       1.1123\n",
      " 1000 |       1.0880\n"
     ]
    }
   ],
   "source": [
    "#식구성\n",
    "learning_rate=0.00001\n",
    "\n",
    "for i in range(1000+1):\n",
    "    with tf.GradientTape() as tape:\n",
    "        hypothesis = w1*x1 + w2*x2+ w3*x3+b\n",
    "        cost = tf.reduce_mean(tf.square(hypothesis-y))\n",
    "        \n",
    "    W1_grad, W2_grad,W3_grad, b_grad= tape.gradient(cost,[w1,w2,w3,b])\n",
    "    \n",
    "    w1.assign_sub(learning_rate*W1_grad)\n",
    "    w2.assign_sub(learning_rate*W2_grad)\n",
    "    w3.assign_sub(learning_rate*W3_grad)\n",
    "    b.assign_sub(learning_rate*b_grad)\n",
    "    \n",
    "    if i%50==0:\n",
    "        print(\"{:5} | {:12.4f}\".format(i, cost.numpy()))"
   ]
  },
  {
   "cell_type": "code",
   "execution_count": 23,
   "metadata": {},
   "outputs": [],
   "source": [
    "#다변량 회귀 분석(행렬기반)\n",
    "data= np.array([\n",
    "    [73.,80.,75.,152.],\n",
    "    [93.,88.,93.,185.],\n",
    "    [89.,91.,90.,180.],\n",
    "    [96.,98.,100.,196.],\n",
    "    [73.,66.,70.,142.],\n",
    "],dtype=np.float32)"
   ]
  },
  {
   "cell_type": "code",
   "execution_count": 24,
   "metadata": {},
   "outputs": [],
   "source": [
    "#데이터 슬라이싱\n",
    "X=data[:,:-1]\n",
    "Y=data[:,[-1]]"
   ]
  },
  {
   "cell_type": "code",
   "execution_count": 25,
   "metadata": {},
   "outputs": [],
   "source": [
    "#랜덤하게 W값 설정\n",
    "W=tf.Variable(tf.random.normal((3,1)))\n",
    "b=tf.Variable(tf.random.normal((1,)))"
   ]
  },
  {
   "cell_type": "code",
   "execution_count": 26,
   "metadata": {},
   "outputs": [],
   "source": [
    "learning_rate=0.000001"
   ]
  },
  {
   "cell_type": "code",
   "execution_count": 28,
   "metadata": {},
   "outputs": [
    {
     "name": "stdout",
     "output_type": "stream",
     "text": [
      "epoch | cost\n",
      "    0 |  1798.2894\n",
      "   50 |    22.0010\n",
      "  100 |     2.2888\n",
      "  150 |     2.0679\n",
      "  200 |     2.0632\n",
      "  250 |     2.0609\n",
      "  300 |     2.0587\n",
      "  350 |     2.0565\n",
      "  400 |     2.0542\n",
      "  450 |     2.0520\n",
      "  500 |     2.0498\n",
      "  550 |     2.0476\n",
      "  600 |     2.0453\n",
      "  650 |     2.0431\n",
      "  700 |     2.0409\n",
      "  750 |     2.0388\n",
      "  800 |     2.0366\n",
      "  850 |     2.0344\n",
      "  900 |     2.0322\n",
      "  950 |     2.0300\n",
      " 1000 |     2.0279\n",
      " 1050 |     2.0257\n",
      " 1100 |     2.0236\n",
      " 1150 |     2.0215\n",
      " 1200 |     2.0194\n",
      " 1250 |     2.0172\n",
      " 1300 |     2.0151\n",
      " 1350 |     2.0130\n",
      " 1400 |     2.0108\n",
      " 1450 |     2.0087\n",
      " 1500 |     2.0066\n",
      " 1550 |     2.0045\n",
      " 1600 |     2.0024\n",
      " 1650 |     2.0003\n",
      " 1700 |     1.9982\n",
      " 1750 |     1.9961\n",
      " 1800 |     1.9940\n",
      " 1850 |     1.9919\n",
      " 1900 |     1.9899\n",
      " 1950 |     1.9878\n",
      " 2000 |     1.9857\n"
     ]
    }
   ],
   "source": [
    "#hyphthesis, prediction함수 구성\n",
    "def predict(X):\n",
    "    return tf.matmul(X,W) +b #hypothesis\n",
    "\n",
    "print(\"epoch | cost\")\n",
    "\n",
    "n_epochs = 2000\n",
    "for i in range(n_epochs+1):\n",
    "    with tf.GradientTape() as tape:\n",
    "        cost = tf.reduce_mean(tf.square(predict(X)-Y))#cost값 구현\n",
    "    #기울기 구하기\n",
    "    W_grad, b_grad = tape.gradient(cost, [W,b])\n",
    "    \n",
    "    #새롭게 구한 기울기로 각 변수값 재설정\n",
    "    W.assign_sub(learning_rate*W_grad)\n",
    "    b.assign_sub(learning_rate*b_grad)\n",
    "    \n",
    "    if i % 50==0:\n",
    "        print(\"{:5} | {:10.4f}\".format(i, cost.numpy()))"
   ]
  },
  {
   "cell_type": "code",
   "execution_count": 29,
   "metadata": {},
   "outputs": [
    {
     "data": {
      "text/plain": [
       "array([[ 1.6652976 ],\n",
       "       [ 0.59528816],\n",
       "       [-0.25148827]], dtype=float32)"
      ]
     },
     "execution_count": 29,
     "metadata": {},
     "output_type": "execute_result"
    }
   ],
   "source": [
    "#W1,W2,W3 각 weight구하기\n",
    "W.numpy()"
   ]
  },
  {
   "cell_type": "code",
   "execution_count": 30,
   "metadata": {},
   "outputs": [
    {
     "data": {
      "text/plain": [
       "array([1.0683131], dtype=float32)"
      ]
     },
     "execution_count": 30,
     "metadata": {},
     "output_type": "execute_result"
    }
   ],
   "source": [
    "#bias 값 구하기\n",
    "b.numpy()"
   ]
  },
  {
   "cell_type": "code",
   "execution_count": 31,
   "metadata": {},
   "outputs": [
    {
     "data": {
      "text/plain": [
       "<tf.Tensor: shape=(5, 1), dtype=float32, numpy=\n",
       "array([[151.39648],\n",
       "       [184.93794],\n",
       "       [180.81708],\n",
       "       [194.1263 ],\n",
       "       [144.31987]], dtype=float32)>"
      ]
     },
     "execution_count": 31,
     "metadata": {},
     "output_type": "execute_result"
    }
   ],
   "source": [
    "tf.matmul(X,W)+b"
   ]
  },
  {
   "cell_type": "code",
   "execution_count": 32,
   "metadata": {},
   "outputs": [
    {
     "data": {
      "text/plain": [
       "array([[152.],\n",
       "       [185.],\n",
       "       [180.],\n",
       "       [196.],\n",
       "       [142.]], dtype=float32)"
      ]
     },
     "execution_count": 32,
     "metadata": {},
     "output_type": "execute_result"
    }
   ],
   "source": [
    "#Predict\n",
    "Y #labels, 실제 값"
   ]
  },
  {
   "cell_type": "code",
   "execution_count": 33,
   "metadata": {},
   "outputs": [
    {
     "data": {
      "text/plain": [
       "array([[151.39648],\n",
       "       [184.93794],\n",
       "       [180.81708],\n",
       "       [194.1263 ],\n",
       "       [144.31987]], dtype=float32)"
      ]
     },
     "execution_count": 33,
     "metadata": {},
     "output_type": "execute_result"
    }
   ],
   "source": [
    "#prediction, 예측값이다.\n",
    "predict(X).numpy()"
   ]
  },
  {
   "cell_type": "code",
   "execution_count": 34,
   "metadata": {},
   "outputs": [
    {
     "data": {
      "text/plain": [
       "array([[182.69525],\n",
       "       [174.3433 ]], dtype=float32)"
      ]
     },
     "execution_count": 34,
     "metadata": {},
     "output_type": "execute_result"
    }
   ],
   "source": [
    "#모델을 통해 새로운 데이터를 넣었을 때 예측을 해본다.\n",
    "predict([[89.,95.,92.],[84.,92.,85.]]).numpy()"
   ]
  },
  {
   "cell_type": "code",
   "execution_count": null,
   "metadata": {},
   "outputs": [],
   "source": []
  }
 ],
 "metadata": {
  "kernelspec": {
   "display_name": "Python 3",
   "language": "python",
   "name": "python3"
  },
  "language_info": {
   "codemirror_mode": {
    "name": "ipython",
    "version": 3
   },
   "file_extension": ".py",
   "mimetype": "text/x-python",
   "name": "python",
   "nbconvert_exporter": "python",
   "pygments_lexer": "ipython3",
   "version": "3.8.5"
  }
 },
 "nbformat": 4,
 "nbformat_minor": 4
}
