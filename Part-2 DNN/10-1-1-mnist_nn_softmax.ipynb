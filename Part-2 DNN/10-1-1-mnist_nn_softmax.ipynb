{
 "cells": [
  {
   "cell_type": "markdown",
   "metadata": {},
   "source": [
    "### Import"
   ]
  },
  {
   "cell_type": "code",
   "execution_count": 1,
   "metadata": {},
   "outputs": [
    {
     "data": {
      "text/plain": [
       "True"
      ]
     },
     "execution_count": 1,
     "metadata": {},
     "output_type": "execute_result"
    }
   ],
   "source": [
    "import tensorflow as tf\n",
    "import numpy as np\n",
    "from tensorflow.keras.utils import to_categorical\n",
    "from tensorflow.keras.datasets import mnist\n",
    "from time import time\n",
    "import os\n",
    "tf.executing_eagerly()"
   ]
  },
  {
   "cell_type": "markdown",
   "metadata": {},
   "source": [
    "### Checkpoint function"
   ]
  },
  {
   "cell_type": "code",
   "execution_count": 2,
   "metadata": {},
   "outputs": [],
   "source": [
    "#영상에 안나옴?\n",
    "def load(model, checkpoint_dir):\n",
    "    print(\" [*] Reading checkpoints...\")\n",
    "\n",
    "    ckpt = tf.train.get_checkpoint_state(checkpoint_dir)\n",
    "    if ckpt :\n",
    "        ckpt_name = os.path.basename(ckpt.model_checkpoint_path)\n",
    "        checkpoint = tf.train.Checkpoint(dnn=model)\n",
    "        checkpoint.restore(save_path=os.path.join(checkpoint_dir, ckpt_name))\n",
    "        counter = int(ckpt_name.split('-')[1])\n",
    "        print(\" [*] Success to read {}\".format(ckpt_name))\n",
    "        return True, counter\n",
    "    else:\n",
    "        print(\" [*] Failed to find a checkpoint\")\n",
    "        return False, 0\n",
    "\n",
    "def check_folder(dir):\n",
    "    if not os.path.exists(dir):\n",
    "        os.makedirs(dir)\n",
    "    return dir"
   ]
  },
  {
   "cell_type": "markdown",
   "metadata": {},
   "source": [
    "### Data load & pre-processiong function"
   ]
  },
  {
   "cell_type": "code",
   "execution_count": 3,
   "metadata": {},
   "outputs": [],
   "source": [
    "def load_mnist():\n",
    "    (train_data, train_labels), (test_data, test_labels) = mnist.load_data()\n",
    "    train_data = np.expand_dims(train_data, axis=-1) #[N,28,28]->[N,28,28,1]\n",
    "    test_data = np.expand_dims(test_data, axis=-1) #[N,28,28]->[N,28,28,1]\n",
    "    \n",
    "    train_data, test_data = normalize(train_data, test_data)\n",
    "    \n",
    "    train_labels = to_categorical(train_labels, 10) #[N,] ->[N, 10]\n",
    "    test_labels = to_categorical(test_labels, 10) #[N,] ->[N, 10]\n",
    "    \n",
    "    return train_data, train_labels, test_data, test_labels\n",
    "\n",
    "def normalize(train_data, test_data):\n",
    "    train_data = train_data.astype(np.float32) / 255.0\n",
    "    test_data = test_data.astype(np.float32) / 255.0\n",
    "    \n",
    "    return train_data, test_data"
   ]
  },
  {
   "cell_type": "markdown",
   "metadata": {},
   "source": [
    "### Performance function"
   ]
  },
  {
   "cell_type": "code",
   "execution_count": 4,
   "metadata": {},
   "outputs": [],
   "source": [
    "def loss_fn(model, images, labels):\n",
    "    logits = model(images, training=True)\n",
    "    loss = tf.reduce_mean(tf.keras.losses.categorical_crossentropy(y_pred=logits, y_true=labels, \n",
    "                                                                   from_logits=True))\n",
    "    return loss\n",
    "\n",
    "def accuracy_fn(model, images, labels):\n",
    "    logits = model(images, training=False)\n",
    "    prediction = tf.equal(tf.argmax(logits, -1), tf.argmax(labels, -1))\n",
    "    accuracy = tf.reduce_mean(tf.cast(prediction, tf.float32))\n",
    "    return accuracy\n",
    "\n",
    "def grad(model, images, labels):\n",
    "    with tf.GradientTape() as tape:\n",
    "        loss = loss_fn(model, images, labels)\n",
    "    return tape.gradient(loss, model.variables)"
   ]
  },
  {
   "cell_type": "markdown",
   "metadata": {},
   "source": [
    "### Model function"
   ]
  },
  {
   "cell_type": "code",
   "execution_count": 5,
   "metadata": {},
   "outputs": [],
   "source": [
    "def flatten() :\n",
    "    return tf.keras.layers.Flatten()\n",
    "\n",
    "def dense(label_dim, weight_init) :\n",
    "    return tf.keras.layers.Dense(units=label_dim, use_bias=True, kernel_initializer=weight_init)\n",
    "\n",
    "def sigmoid() :\n",
    "    return tf.keras.layers.Activation(tf.keras.activations.sigmoid)"
   ]
  },
  {
   "cell_type": "markdown",
   "metadata": {},
   "source": [
    "### Create model (class 버전)"
   ]
  },
  {
   "cell_type": "code",
   "execution_count": 6,
   "metadata": {},
   "outputs": [],
   "source": [
    "class create_model_class(tf.keras.Model):\n",
    "    def __init__(self, label_dim):\n",
    "        super(create_model_class, self).__init__()\n",
    "        weight_init = tf.keras.initializers.RandomNormal()\n",
    "        \n",
    "        self.model = tf.keras.Sequential()\n",
    "        self.model.add(flatten())\n",
    "        \n",
    "        for i in range(2):\n",
    "            self.model.add(dense(256, weight_init))\n",
    "            self.model.add(relu())\n",
    "            \n",
    "        self.model.add(dense(label_dim, weight_init))\n",
    "        \n",
    "    def call(self, x, training=None, mask=None):\n",
    "        x =self.model(x)\n",
    "        \n",
    "        return x"
   ]
  },
  {
   "cell_type": "code",
   "execution_count": 7,
   "metadata": {},
   "outputs": [],
   "source": [
    "def create_model_function(label_dim) :\n",
    "    weight_init = tf.keras.initializers.RandomNormal()\n",
    "\n",
    "    model = tf.keras.Sequential()\n",
    "    model.add(flatten())\n",
    "\n",
    "    for i in range(2) :\n",
    "        model.add(dense(256, weight_init))\n",
    "        model.add(sigmoid())\n",
    "\n",
    "    model.add(dense(label_dim, weight_init))\n",
    "\n",
    "    return model"
   ]
  },
  {
   "cell_type": "markdown",
   "metadata": {},
   "source": [
    "### Define data & hyperparameter"
   ]
  },
  {
   "cell_type": "code",
   "execution_count": 8,
   "metadata": {},
   "outputs": [],
   "source": [
    "train_x, train_y, test_x, test_y = load_mnist()\n",
    "\n",
    "\"\"\" parameters \"\"\"\n",
    "learning_rate = 0.001\n",
    "batch_size = 128\n",
    "\n",
    "training_epochs = 1\n",
    "training_iterations = len(train_x) \n",
    "\n",
    "label_dim = 10\n",
    "\n",
    "train_flag = True\n",
    "\n",
    "\"\"\" Graph Input using Dataset API \"\"\"\n",
    "train_dataset = tf.data.Dataset.from_tensor_slices((train_x, train_y)).\\\n",
    "    shuffle(buffer_size=100000).\\\n",
    "    prefetch(buffer_size=batch_size).\\\n",
    "    batch(batch_size, drop_remainder=True)\n",
    "\n",
    "test_dataset = tf.data.Dataset.from_tensor_slices((test_x, test_y)).\\\n",
    "    shuffle(buffer_size=100000).\\\n",
    "    prefetch(buffer_size=len(test_x)).\\\n",
    "    batch(len(test_x))"
   ]
  },
  {
   "cell_type": "markdown",
   "metadata": {},
   "source": [
    "### Define model & optimizer & writer"
   ]
  },
  {
   "cell_type": "code",
   "execution_count": 9,
   "metadata": {},
   "outputs": [],
   "source": [
    "\"\"\" Model \"\"\"\n",
    "network = create_model_function(label_dim)\n",
    "\n",
    "\"\"\" Training \"\"\"\n",
    "optimizer = tf.keras.optimizers.Adam(learning_rate=learning_rate)\n",
    "\n",
    "\"\"\" Writer \"\"\"\n",
    "checkpoint_dir = 'checkpoints'\n",
    "logs_dir = 'logs'\n",
    "\n",
    "model_dir = 'nn_relu'\n",
    "\n",
    "checkpoint_dir = os.path.join(checkpoint_dir, model_dir)\n",
    "check_folder(checkpoint_dir)\n",
    "checkpoint_prefix = os.path.join(checkpoint_dir, model_dir)\n",
    "logs_dir = os.path.join(logs_dir, model_dir)"
   ]
  },
  {
   "cell_type": "markdown",
   "metadata": {},
   "source": [
    "### Restore checkpoint & start train or test phase"
   ]
  },
  {
   "cell_type": "code",
   "execution_count": 10,
   "metadata": {},
   "outputs": [
    {
     "name": "stdout",
     "output_type": "stream",
     "text": [
      " [*] Reading checkpoints...\n",
      " [*] Success to read nn_relu-468-1\n",
      " [*] Load SUCCESS\n",
      "Epoch: [ 0] [    0/60000] time: 1.6625, train_loss: 1.92998171, train_accuracy: 0.3672, test_Accuracy: 0.3813\n",
      "Epoch: [ 0] [    1/60000] time: 2.0136, train_loss: 1.72965598, train_accuracy: 0.6328, test_Accuracy: 0.6342\n",
      "Epoch: [ 0] [    2/60000] time: 2.3806, train_loss: 1.69449937, train_accuracy: 0.7031, test_Accuracy: 0.7155\n",
      "Epoch: [ 0] [    3/60000] time: 2.6868, train_loss: 1.67310262, train_accuracy: 0.7500, test_Accuracy: 0.7305\n",
      "Epoch: [ 0] [    4/60000] time: 2.9930, train_loss: 1.63604605, train_accuracy: 0.6875, test_Accuracy: 0.7100\n",
      "Epoch: [ 0] [    5/60000] time: 3.2712, train_loss: 1.62968636, train_accuracy: 0.7109, test_Accuracy: 0.7174\n",
      "Epoch: [ 0] [    6/60000] time: 3.5226, train_loss: 1.53231037, train_accuracy: 0.8359, test_Accuracy: 0.7124\n",
      "Epoch: [ 0] [    7/60000] time: 3.7619, train_loss: 1.55873096, train_accuracy: 0.7266, test_Accuracy: 0.7098\n",
      "Epoch: [ 0] [    8/60000] time: 4.1219, train_loss: 1.53008699, train_accuracy: 0.6797, test_Accuracy: 0.7056\n",
      "Epoch: [ 0] [    9/60000] time: 4.4630, train_loss: 1.43815947, train_accuracy: 0.7578, test_Accuracy: 0.7041\n",
      "Epoch: [ 0] [   10/60000] time: 4.8310, train_loss: 1.42815757, train_accuracy: 0.6953, test_Accuracy: 0.7029\n",
      "Epoch: [ 0] [   11/60000] time: 5.1473, train_loss: 1.36705017, train_accuracy: 0.7500, test_Accuracy: 0.7252\n",
      "Epoch: [ 0] [   12/60000] time: 5.4653, train_loss: 1.37343633, train_accuracy: 0.7422, test_Accuracy: 0.7618\n",
      "Epoch: [ 0] [   13/60000] time: 5.7775, train_loss: 1.32940280, train_accuracy: 0.7891, test_Accuracy: 0.7989\n",
      "Epoch: [ 0] [   14/60000] time: 6.1047, train_loss: 1.29128170, train_accuracy: 0.8438, test_Accuracy: 0.8171\n",
      "Epoch: [ 0] [   15/60000] time: 6.4468, train_loss: 1.25843048, train_accuracy: 0.7969, test_Accuracy: 0.8261\n",
      "Epoch: [ 0] [   16/60000] time: 6.7449, train_loss: 1.20665336, train_accuracy: 0.8359, test_Accuracy: 0.8364\n",
      "Epoch: [ 0] [   17/60000] time: 6.9833, train_loss: 1.31297386, train_accuracy: 0.7578, test_Accuracy: 0.8418\n",
      "Epoch: [ 0] [   18/60000] time: 7.2765, train_loss: 1.20263267, train_accuracy: 0.8594, test_Accuracy: 0.8472\n",
      "Epoch: [ 0] [   19/60000] time: 7.6016, train_loss: 1.12680459, train_accuracy: 0.8984, test_Accuracy: 0.8470\n",
      "Epoch: [ 0] [   20/60000] time: 7.9487, train_loss: 1.08785248, train_accuracy: 0.8906, test_Accuracy: 0.8397\n",
      "Epoch: [ 0] [   21/60000] time: 8.3028, train_loss: 1.17772496, train_accuracy: 0.7969, test_Accuracy: 0.8426\n",
      "Epoch: [ 0] [   22/60000] time: 8.6059, train_loss: 1.13333774, train_accuracy: 0.8516, test_Accuracy: 0.8558\n",
      "Epoch: [ 0] [   23/60000] time: 8.9261, train_loss: 1.08892322, train_accuracy: 0.8984, test_Accuracy: 0.8660\n",
      "Epoch: [ 0] [   24/60000] time: 9.2612, train_loss: 0.97668254, train_accuracy: 0.8906, test_Accuracy: 0.8742\n",
      "Epoch: [ 0] [   25/60000] time: 9.5843, train_loss: 1.06351078, train_accuracy: 0.8203, test_Accuracy: 0.8778\n",
      "Epoch: [ 0] [   26/60000] time: 9.9134, train_loss: 0.99507868, train_accuracy: 0.8984, test_Accuracy: 0.8799\n",
      "Epoch: [ 0] [   27/60000] time: 10.1927, train_loss: 1.00082219, train_accuracy: 0.8359, test_Accuracy: 0.8817\n",
      "Epoch: [ 0] [   28/60000] time: 10.4370, train_loss: 0.94804150, train_accuracy: 0.8750, test_Accuracy: 0.8788\n",
      "Epoch: [ 0] [   29/60000] time: 10.7173, train_loss: 0.96415532, train_accuracy: 0.8438, test_Accuracy: 0.8711\n",
      "Epoch: [ 0] [   30/60000] time: 11.0564, train_loss: 0.97386342, train_accuracy: 0.8594, test_Accuracy: 0.8639\n",
      "Epoch: [ 0] [   31/60000] time: 11.3785, train_loss: 0.86511469, train_accuracy: 0.9219, test_Accuracy: 0.8609\n",
      "Epoch: [ 0] [   32/60000] time: 11.7027, train_loss: 0.95300746, train_accuracy: 0.8516, test_Accuracy: 0.8587\n",
      "Epoch: [ 0] [   33/60000] time: 12.0298, train_loss: 0.87691718, train_accuracy: 0.8438, test_Accuracy: 0.8584\n",
      "Epoch: [ 0] [   34/60000] time: 12.3480, train_loss: 0.83930635, train_accuracy: 0.8750, test_Accuracy: 0.8609\n",
      "Epoch: [ 0] [   35/60000] time: 12.6541, train_loss: 0.84982067, train_accuracy: 0.8516, test_Accuracy: 0.8657\n",
      "Epoch: [ 0] [   36/60000] time: 12.9982, train_loss: 0.78902328, train_accuracy: 0.8750, test_Accuracy: 0.8664\n",
      "Epoch: [ 0] [   37/60000] time: 13.3223, train_loss: 0.84055519, train_accuracy: 0.8750, test_Accuracy: 0.8676\n",
      "Epoch: [ 0] [   38/60000] time: 13.6305, train_loss: 0.76755971, train_accuracy: 0.8672, test_Accuracy: 0.8709\n",
      "Epoch: [ 0] [   39/60000] time: 13.8669, train_loss: 0.74461460, train_accuracy: 0.8828, test_Accuracy: 0.8720\n",
      "Epoch: [ 0] [   40/60000] time: 14.1780, train_loss: 0.74667799, train_accuracy: 0.9141, test_Accuracy: 0.8711\n",
      "Epoch: [ 0] [   41/60000] time: 14.5142, train_loss: 0.77112114, train_accuracy: 0.8906, test_Accuracy: 0.8722\n",
      "Epoch: [ 0] [   42/60000] time: 14.8203, train_loss: 0.78325969, train_accuracy: 0.8438, test_Accuracy: 0.8734\n",
      "Epoch: [ 0] [   43/60000] time: 15.1724, train_loss: 0.76855433, train_accuracy: 0.8594, test_Accuracy: 0.8758\n",
      "Epoch: [ 0] [   44/60000] time: 15.5035, train_loss: 0.67042571, train_accuracy: 0.8906, test_Accuracy: 0.8799\n",
      "Epoch: [ 0] [   45/60000] time: 15.7937, train_loss: 0.69170398, train_accuracy: 0.8750, test_Accuracy: 0.8839\n",
      "Epoch: [ 0] [   46/60000] time: 16.1258, train_loss: 0.67611891, train_accuracy: 0.8828, test_Accuracy: 0.8868\n",
      "Epoch: [ 0] [   47/60000] time: 16.4547, train_loss: 0.72928679, train_accuracy: 0.8594, test_Accuracy: 0.8893\n",
      "Epoch: [ 0] [   48/60000] time: 16.7422, train_loss: 0.68216503, train_accuracy: 0.8672, test_Accuracy: 0.8912\n",
      "Epoch: [ 0] [   49/60000] time: 17.0374, train_loss: 0.60019094, train_accuracy: 0.9297, test_Accuracy: 0.8937\n",
      "Epoch: [ 0] [   50/60000] time: 17.2548, train_loss: 0.70954609, train_accuracy: 0.8672, test_Accuracy: 0.8947\n",
      "Epoch: [ 0] [   51/60000] time: 17.5501, train_loss: 0.60453939, train_accuracy: 0.9062, test_Accuracy: 0.8938\n",
      "Epoch: [ 0] [   52/60000] time: 17.8393, train_loss: 0.61147553, train_accuracy: 0.8984, test_Accuracy: 0.8921\n",
      "Epoch: [ 0] [   53/60000] time: 18.1644, train_loss: 0.65756994, train_accuracy: 0.9219, test_Accuracy: 0.8924\n",
      "Epoch: [ 0] [   54/60000] time: 18.4918, train_loss: 0.69450492, train_accuracy: 0.8672, test_Accuracy: 0.8902\n",
      "Epoch: [ 0] [   55/60000] time: 18.7868, train_loss: 0.53330421, train_accuracy: 0.9219, test_Accuracy: 0.8895\n",
      "Epoch: [ 0] [   56/60000] time: 19.1109, train_loss: 0.58829963, train_accuracy: 0.8906, test_Accuracy: 0.8883\n",
      "Epoch: [ 0] [   57/60000] time: 19.4470, train_loss: 0.67786640, train_accuracy: 0.8594, test_Accuracy: 0.8890\n",
      "Epoch: [ 0] [   58/60000] time: 19.7581, train_loss: 0.66296506, train_accuracy: 0.8359, test_Accuracy: 0.8920\n",
      "Epoch: [ 0] [   59/60000] time: 20.1012, train_loss: 0.59696198, train_accuracy: 0.8906, test_Accuracy: 0.8943\n",
      "Epoch: [ 0] [   60/60000] time: 20.3745, train_loss: 0.65292990, train_accuracy: 0.8438, test_Accuracy: 0.8934\n",
      "Epoch: [ 0] [   61/60000] time: 20.6667, train_loss: 0.55492079, train_accuracy: 0.9062, test_Accuracy: 0.8933\n",
      "Epoch: [ 0] [   62/60000] time: 20.9360, train_loss: 0.49903363, train_accuracy: 0.9375, test_Accuracy: 0.8935\n",
      "Epoch: [ 0] [   63/60000] time: 21.2741, train_loss: 0.55771887, train_accuracy: 0.8906, test_Accuracy: 0.8907\n",
      "Epoch: [ 0] [   64/60000] time: 21.6082, train_loss: 0.60471892, train_accuracy: 0.8594, test_Accuracy: 0.8883\n",
      "Epoch: [ 0] [   65/60000] time: 21.9358, train_loss: 0.50012493, train_accuracy: 0.9141, test_Accuracy: 0.8888\n",
      "Epoch: [ 0] [   66/60000] time: 22.1777, train_loss: 0.55822289, train_accuracy: 0.8906, test_Accuracy: 0.8911\n",
      "Epoch: [ 0] [   67/60000] time: 22.3811, train_loss: 0.61908150, train_accuracy: 0.8594, test_Accuracy: 0.8937\n",
      "Epoch: [ 0] [   68/60000] time: 22.7053, train_loss: 0.69446790, train_accuracy: 0.8281, test_Accuracy: 0.8988\n",
      "Epoch: [ 0] [   69/60000] time: 23.0583, train_loss: 0.53553236, train_accuracy: 0.8906, test_Accuracy: 0.9008\n",
      "Epoch: [ 0] [   70/60000] time: 23.4024, train_loss: 0.54437536, train_accuracy: 0.8828, test_Accuracy: 0.9006\n",
      "Epoch: [ 0] [   71/60000] time: 23.7195, train_loss: 0.51516175, train_accuracy: 0.9062, test_Accuracy: 0.8998\n",
      "Epoch: [ 0] [   72/60000] time: 23.9649, train_loss: 0.43679491, train_accuracy: 0.9453, test_Accuracy: 0.8981\n",
      "Epoch: [ 0] [   73/60000] time: 24.2282, train_loss: 0.52611643, train_accuracy: 0.8906, test_Accuracy: 0.8975\n"
     ]
    },
    {
     "name": "stdout",
     "output_type": "stream",
     "text": [
      "Epoch: [ 0] [   74/60000] time: 24.5623, train_loss: 0.52506536, train_accuracy: 0.8828, test_Accuracy: 0.8967\n",
      "Epoch: [ 0] [   75/60000] time: 24.8854, train_loss: 0.53569674, train_accuracy: 0.8750, test_Accuracy: 0.8978\n",
      "Epoch: [ 0] [   76/60000] time: 25.1687, train_loss: 0.48527899, train_accuracy: 0.9062, test_Accuracy: 0.9018\n",
      "Epoch: [ 0] [   77/60000] time: 25.4589, train_loss: 0.52063119, train_accuracy: 0.9062, test_Accuracy: 0.9048\n",
      "Epoch: [ 0] [   78/60000] time: 25.7830, train_loss: 0.53143698, train_accuracy: 0.8750, test_Accuracy: 0.9048\n",
      "Epoch: [ 0] [   79/60000] time: 26.0933, train_loss: 0.64024979, train_accuracy: 0.8672, test_Accuracy: 0.9040\n",
      "Epoch: [ 0] [   80/60000] time: 26.4143, train_loss: 0.51249665, train_accuracy: 0.8906, test_Accuracy: 0.9032\n",
      "Epoch: [ 0] [   81/60000] time: 26.7245, train_loss: 0.41740125, train_accuracy: 0.9453, test_Accuracy: 0.9026\n",
      "Epoch: [ 0] [   82/60000] time: 27.0536, train_loss: 0.50423741, train_accuracy: 0.8516, test_Accuracy: 0.9011\n",
      "Epoch: [ 0] [   83/60000] time: 27.3089, train_loss: 0.39404249, train_accuracy: 0.9297, test_Accuracy: 0.9015\n",
      "Epoch: [ 0] [   84/60000] time: 27.5533, train_loss: 0.50346661, train_accuracy: 0.8906, test_Accuracy: 0.9034\n",
      "Epoch: [ 0] [   85/60000] time: 27.8794, train_loss: 0.43886775, train_accuracy: 0.9141, test_Accuracy: 0.9033\n",
      "Epoch: [ 0] [   86/60000] time: 28.1836, train_loss: 0.47712448, train_accuracy: 0.8984, test_Accuracy: 0.9038\n",
      "Epoch: [ 0] [   87/60000] time: 28.5038, train_loss: 0.59769493, train_accuracy: 0.8672, test_Accuracy: 0.9050\n",
      "Epoch: [ 0] [   88/60000] time: 28.8279, train_loss: 0.48708111, train_accuracy: 0.8984, test_Accuracy: 0.9064\n",
      "Epoch: [ 0] [   89/60000] time: 29.1710, train_loss: 0.48200443, train_accuracy: 0.8984, test_Accuracy: 0.9068\n",
      "Epoch: [ 0] [   90/60000] time: 29.5111, train_loss: 0.37315798, train_accuracy: 0.9531, test_Accuracy: 0.9076\n",
      "Epoch: [ 0] [   91/60000] time: 29.8192, train_loss: 0.43079162, train_accuracy: 0.8984, test_Accuracy: 0.9085\n",
      "Epoch: [ 0] [   92/60000] time: 30.1604, train_loss: 0.38872033, train_accuracy: 0.9141, test_Accuracy: 0.9090\n",
      "Epoch: [ 0] [   93/60000] time: 30.4904, train_loss: 0.57151985, train_accuracy: 0.8594, test_Accuracy: 0.9092\n",
      "Epoch: [ 0] [   94/60000] time: 30.7339, train_loss: 0.35370755, train_accuracy: 0.9531, test_Accuracy: 0.9097\n",
      "Epoch: [ 0] [   95/60000] time: 31.0081, train_loss: 0.32549578, train_accuracy: 0.9453, test_Accuracy: 0.9095\n",
      "Epoch: [ 0] [   96/60000] time: 31.3571, train_loss: 0.45187086, train_accuracy: 0.8750, test_Accuracy: 0.9087\n",
      "Epoch: [ 0] [   97/60000] time: 31.6593, train_loss: 0.50710893, train_accuracy: 0.8594, test_Accuracy: 0.9078\n",
      "Epoch: [ 0] [   98/60000] time: 31.9436, train_loss: 0.48892057, train_accuracy: 0.8984, test_Accuracy: 0.9082\n",
      "Epoch: [ 0] [   99/60000] time: 32.2727, train_loss: 0.52558482, train_accuracy: 0.8828, test_Accuracy: 0.9083\n",
      "Epoch: [ 0] [  100/60000] time: 32.5798, train_loss: 0.38304549, train_accuracy: 0.9219, test_Accuracy: 0.9074\n",
      "Epoch: [ 0] [  101/60000] time: 32.8840, train_loss: 0.41987020, train_accuracy: 0.9219, test_Accuracy: 0.9067\n",
      "Epoch: [ 0] [  102/60000] time: 33.1812, train_loss: 0.36924112, train_accuracy: 0.9297, test_Accuracy: 0.9072\n",
      "Epoch: [ 0] [  103/60000] time: 33.5084, train_loss: 0.31125343, train_accuracy: 0.9609, test_Accuracy: 0.9071\n",
      "Epoch: [ 0] [  104/60000] time: 33.8215, train_loss: 0.46935588, train_accuracy: 0.9062, test_Accuracy: 0.9073\n",
      "Epoch: [ 0] [  105/60000] time: 34.0681, train_loss: 0.38589069, train_accuracy: 0.9219, test_Accuracy: 0.9077\n",
      "Epoch: [ 0] [  106/60000] time: 34.3671, train_loss: 0.35125557, train_accuracy: 0.9219, test_Accuracy: 0.9100\n",
      "Epoch: [ 0] [  107/60000] time: 34.6752, train_loss: 0.32848808, train_accuracy: 0.9219, test_Accuracy: 0.9104\n",
      "Epoch: [ 0] [  108/60000] time: 35.0154, train_loss: 0.47882378, train_accuracy: 0.8828, test_Accuracy: 0.9113\n",
      "Epoch: [ 0] [  109/60000] time: 35.3778, train_loss: 0.41900003, train_accuracy: 0.9141, test_Accuracy: 0.9123\n",
      "Epoch: [ 0] [  110/60000] time: 35.7314, train_loss: 0.38028991, train_accuracy: 0.8906, test_Accuracy: 0.9122\n",
      "Epoch: [ 0] [  111/60000] time: 36.0546, train_loss: 0.40892938, train_accuracy: 0.9062, test_Accuracy: 0.9120\n",
      "Epoch: [ 0] [  112/60000] time: 36.3927, train_loss: 0.32485244, train_accuracy: 0.9453, test_Accuracy: 0.9111\n",
      "Epoch: [ 0] [  113/60000] time: 36.7078, train_loss: 0.32906491, train_accuracy: 0.9375, test_Accuracy: 0.9104\n",
      "Epoch: [ 0] [  114/60000] time: 37.0389, train_loss: 0.36027616, train_accuracy: 0.9141, test_Accuracy: 0.9095\n",
      "Epoch: [ 0] [  115/60000] time: 37.3850, train_loss: 0.41306302, train_accuracy: 0.8828, test_Accuracy: 0.9089\n",
      "Epoch: [ 0] [  116/60000] time: 37.6254, train_loss: 0.28570282, train_accuracy: 0.9297, test_Accuracy: 0.9099\n",
      "Epoch: [ 0] [  117/60000] time: 37.9675, train_loss: 0.38365045, train_accuracy: 0.8984, test_Accuracy: 0.9106\n",
      "Epoch: [ 0] [  118/60000] time: 38.3095, train_loss: 0.42040986, train_accuracy: 0.8906, test_Accuracy: 0.9114\n",
      "Epoch: [ 0] [  119/60000] time: 38.6516, train_loss: 0.34933925, train_accuracy: 0.9219, test_Accuracy: 0.9105\n",
      "Epoch: [ 0] [  120/60000] time: 38.9842, train_loss: 0.42643172, train_accuracy: 0.9062, test_Accuracy: 0.9098\n",
      "Epoch: [ 0] [  121/60000] time: 39.3308, train_loss: 0.44679493, train_accuracy: 0.8750, test_Accuracy: 0.9086\n",
      "Epoch: [ 0] [  122/60000] time: 39.6530, train_loss: 0.40466881, train_accuracy: 0.8984, test_Accuracy: 0.9086\n",
      "Epoch: [ 0] [  123/60000] time: 39.9841, train_loss: 0.44092157, train_accuracy: 0.8828, test_Accuracy: 0.9095\n",
      "Epoch: [ 0] [  124/60000] time: 40.3351, train_loss: 0.36736453, train_accuracy: 0.9219, test_Accuracy: 0.9098\n",
      "Epoch: [ 0] [  125/60000] time: 40.6543, train_loss: 0.44086447, train_accuracy: 0.8828, test_Accuracy: 0.9103\n",
      "Epoch: [ 0] [  126/60000] time: 40.8976, train_loss: 0.33290204, train_accuracy: 0.9297, test_Accuracy: 0.9118\n",
      "Epoch: [ 0] [  127/60000] time: 41.1629, train_loss: 0.39927942, train_accuracy: 0.8672, test_Accuracy: 0.9136\n",
      "Epoch: [ 0] [  128/60000] time: 41.5209, train_loss: 0.30080372, train_accuracy: 0.9609, test_Accuracy: 0.9139\n",
      "Epoch: [ 0] [  129/60000] time: 41.8402, train_loss: 0.34707355, train_accuracy: 0.9297, test_Accuracy: 0.9135\n",
      "Epoch: [ 0] [  130/60000] time: 42.1692, train_loss: 0.32011926, train_accuracy: 0.9453, test_Accuracy: 0.9140\n",
      "Epoch: [ 0] [  131/60000] time: 42.4960, train_loss: 0.29125184, train_accuracy: 0.9375, test_Accuracy: 0.9147\n",
      "Epoch: [ 0] [  132/60000] time: 42.8275, train_loss: 0.36056852, train_accuracy: 0.9141, test_Accuracy: 0.9145\n",
      "Epoch: [ 0] [  133/60000] time: 43.1496, train_loss: 0.32589230, train_accuracy: 0.9375, test_Accuracy: 0.9144\n",
      "Epoch: [ 0] [  134/60000] time: 43.4937, train_loss: 0.33405828, train_accuracy: 0.9141, test_Accuracy: 0.9144\n",
      "Epoch: [ 0] [  135/60000] time: 43.8378, train_loss: 0.37496340, train_accuracy: 0.9062, test_Accuracy: 0.9147\n",
      "Epoch: [ 0] [  136/60000] time: 44.1619, train_loss: 0.35774314, train_accuracy: 0.9062, test_Accuracy: 0.9149\n",
      "Epoch: [ 0] [  137/60000] time: 44.4172, train_loss: 0.29987341, train_accuracy: 0.9297, test_Accuracy: 0.9144\n",
      "Epoch: [ 0] [  138/60000] time: 44.7424, train_loss: 0.35203969, train_accuracy: 0.9141, test_Accuracy: 0.9144\n",
      "Epoch: [ 0] [  139/60000] time: 45.0755, train_loss: 0.35523415, train_accuracy: 0.9219, test_Accuracy: 0.9151\n",
      "Epoch: [ 0] [  140/60000] time: 45.4006, train_loss: 0.35866266, train_accuracy: 0.9062, test_Accuracy: 0.9161\n",
      "Epoch: [ 0] [  141/60000] time: 45.7107, train_loss: 0.33072829, train_accuracy: 0.9297, test_Accuracy: 0.9178\n",
      "Epoch: [ 0] [  142/60000] time: 46.0439, train_loss: 0.33811975, train_accuracy: 0.8906, test_Accuracy: 0.9180\n",
      "Epoch: [ 0] [  143/60000] time: 46.3899, train_loss: 0.34936467, train_accuracy: 0.8984, test_Accuracy: 0.9183\n",
      "Epoch: [ 0] [  144/60000] time: 46.7434, train_loss: 0.26908743, train_accuracy: 0.9453, test_Accuracy: 0.9194\n",
      "Epoch: [ 0] [  145/60000] time: 47.0681, train_loss: 0.28670147, train_accuracy: 0.9453, test_Accuracy: 0.9201\n",
      "Epoch: [ 0] [  146/60000] time: 47.3982, train_loss: 0.33129865, train_accuracy: 0.9141, test_Accuracy: 0.9203\n",
      "Epoch: [ 0] [  147/60000] time: 47.6944, train_loss: 0.34510005, train_accuracy: 0.9297, test_Accuracy: 0.9206\n"
     ]
    },
    {
     "name": "stdout",
     "output_type": "stream",
     "text": [
      "Epoch: [ 0] [  148/60000] time: 47.9458, train_loss: 0.34922749, train_accuracy: 0.9219, test_Accuracy: 0.9203\n",
      "Epoch: [ 0] [  149/60000] time: 48.2859, train_loss: 0.35184121, train_accuracy: 0.9141, test_Accuracy: 0.9196\n",
      "Epoch: [ 0] [  150/60000] time: 48.6399, train_loss: 0.33929610, train_accuracy: 0.9453, test_Accuracy: 0.9195\n",
      "Epoch: [ 0] [  151/60000] time: 48.9700, train_loss: 0.24047330, train_accuracy: 0.9609, test_Accuracy: 0.9197\n",
      "Epoch: [ 0] [  152/60000] time: 49.2684, train_loss: 0.30184510, train_accuracy: 0.9375, test_Accuracy: 0.9194\n",
      "Epoch: [ 0] [  153/60000] time: 49.6163, train_loss: 0.22708941, train_accuracy: 0.9688, test_Accuracy: 0.9185\n",
      "Epoch: [ 0] [  154/60000] time: 49.9574, train_loss: 0.31232238, train_accuracy: 0.9453, test_Accuracy: 0.9181\n",
      "Epoch: [ 0] [  155/60000] time: 50.2875, train_loss: 0.29326117, train_accuracy: 0.9609, test_Accuracy: 0.9165\n",
      "Epoch: [ 0] [  156/60000] time: 50.4959, train_loss: 0.27072054, train_accuracy: 0.9219, test_Accuracy: 0.9164\n",
      "Epoch: [ 0] [  157/60000] time: 50.7544, train_loss: 0.36940411, train_accuracy: 0.8828, test_Accuracy: 0.9153\n",
      "Epoch: [ 0] [  158/60000] time: 51.0395, train_loss: 0.20096064, train_accuracy: 0.9531, test_Accuracy: 0.9159\n",
      "Epoch: [ 0] [  159/60000] time: 51.2918, train_loss: 0.28386852, train_accuracy: 0.9219, test_Accuracy: 0.9164\n",
      "Epoch: [ 0] [  160/60000] time: 51.6209, train_loss: 0.35605228, train_accuracy: 0.9062, test_Accuracy: 0.9169\n",
      "Epoch: [ 0] [  161/60000] time: 51.9272, train_loss: 0.28814149, train_accuracy: 0.8984, test_Accuracy: 0.9179\n",
      "Epoch: [ 0] [  162/60000] time: 52.2303, train_loss: 0.27800870, train_accuracy: 0.9453, test_Accuracy: 0.9184\n",
      "Epoch: [ 0] [  163/60000] time: 52.4527, train_loss: 0.25442654, train_accuracy: 0.9297, test_Accuracy: 0.9184\n",
      "Epoch: [ 0] [  164/60000] time: 52.6871, train_loss: 0.34971064, train_accuracy: 0.9219, test_Accuracy: 0.9171\n",
      "Epoch: [ 0] [  165/60000] time: 53.0122, train_loss: 0.26454103, train_accuracy: 0.9219, test_Accuracy: 0.9164\n",
      "Epoch: [ 0] [  166/60000] time: 53.3517, train_loss: 0.27691123, train_accuracy: 0.9297, test_Accuracy: 0.9175\n",
      "Epoch: [ 0] [  167/60000] time: 53.6686, train_loss: 0.27853569, train_accuracy: 0.9219, test_Accuracy: 0.9188\n",
      "Epoch: [ 0] [  168/60000] time: 53.9737, train_loss: 0.27984399, train_accuracy: 0.9375, test_Accuracy: 0.9195\n",
      "Epoch: [ 0] [  169/60000] time: 54.3008, train_loss: 0.32764739, train_accuracy: 0.9375, test_Accuracy: 0.9203\n"
     ]
    },
    {
     "ename": "KeyboardInterrupt",
     "evalue": "",
     "output_type": "error",
     "traceback": [
      "\u001b[1;31m---------------------------------------------------------------------------\u001b[0m",
      "\u001b[1;31mKeyboardInterrupt\u001b[0m                         Traceback (most recent call last)",
      "\u001b[1;32m<ipython-input-10-07a882d3ed46>\u001b[0m in \u001b[0;36m<module>\u001b[1;34m\u001b[0m\n\u001b[0;32m     30\u001b[0m                 \u001b[0mtrain_accuracy\u001b[0m \u001b[1;33m=\u001b[0m \u001b[0maccuracy_fn\u001b[0m\u001b[1;33m(\u001b[0m\u001b[0mnetwork\u001b[0m\u001b[1;33m,\u001b[0m \u001b[0mtrain_input\u001b[0m\u001b[1;33m,\u001b[0m \u001b[0mtrain_label\u001b[0m\u001b[1;33m)\u001b[0m\u001b[1;33m\u001b[0m\u001b[1;33m\u001b[0m\u001b[0m\n\u001b[0;32m     31\u001b[0m \u001b[1;33m\u001b[0m\u001b[0m\n\u001b[1;32m---> 32\u001b[1;33m                 \u001b[1;32mfor\u001b[0m \u001b[0mtest_input\u001b[0m\u001b[1;33m,\u001b[0m \u001b[0mtest_label\u001b[0m \u001b[1;32min\u001b[0m \u001b[0mtest_dataset\u001b[0m\u001b[1;33m:\u001b[0m\u001b[1;33m\u001b[0m\u001b[1;33m\u001b[0m\u001b[0m\n\u001b[0m\u001b[0;32m     33\u001b[0m                     \u001b[0mtest_accuracy\u001b[0m \u001b[1;33m=\u001b[0m \u001b[0maccuracy_fn\u001b[0m\u001b[1;33m(\u001b[0m\u001b[0mnetwork\u001b[0m\u001b[1;33m,\u001b[0m \u001b[0mtest_input\u001b[0m\u001b[1;33m,\u001b[0m \u001b[0mtest_label\u001b[0m\u001b[1;33m)\u001b[0m\u001b[1;33m\u001b[0m\u001b[1;33m\u001b[0m\u001b[0m\n\u001b[0;32m     34\u001b[0m \u001b[1;33m\u001b[0m\u001b[0m\n",
      "\u001b[1;32m~\\anaconda3\\lib\\site-packages\\tensorflow\\python\\data\\ops\\dataset_ops.py\u001b[0m in \u001b[0;36m__iter__\u001b[1;34m(self)\u001b[0m\n\u001b[0;32m    420\u001b[0m     \u001b[1;32mif\u001b[0m \u001b[0mcontext\u001b[0m\u001b[1;33m.\u001b[0m\u001b[0mexecuting_eagerly\u001b[0m\u001b[1;33m(\u001b[0m\u001b[1;33m)\u001b[0m \u001b[1;32mor\u001b[0m \u001b[0mops\u001b[0m\u001b[1;33m.\u001b[0m\u001b[0minside_function\u001b[0m\u001b[1;33m(\u001b[0m\u001b[1;33m)\u001b[0m\u001b[1;33m:\u001b[0m\u001b[1;33m\u001b[0m\u001b[1;33m\u001b[0m\u001b[0m\n\u001b[0;32m    421\u001b[0m       \u001b[1;32mwith\u001b[0m \u001b[0mops\u001b[0m\u001b[1;33m.\u001b[0m\u001b[0mcolocate_with\u001b[0m\u001b[1;33m(\u001b[0m\u001b[0mself\u001b[0m\u001b[1;33m.\u001b[0m\u001b[0m_variant_tensor\u001b[0m\u001b[1;33m)\u001b[0m\u001b[1;33m:\u001b[0m\u001b[1;33m\u001b[0m\u001b[1;33m\u001b[0m\u001b[0m\n\u001b[1;32m--> 422\u001b[1;33m         \u001b[1;32mreturn\u001b[0m \u001b[0miterator_ops\u001b[0m\u001b[1;33m.\u001b[0m\u001b[0mOwnedIterator\u001b[0m\u001b[1;33m(\u001b[0m\u001b[0mself\u001b[0m\u001b[1;33m)\u001b[0m\u001b[1;33m\u001b[0m\u001b[1;33m\u001b[0m\u001b[0m\n\u001b[0m\u001b[0;32m    423\u001b[0m     \u001b[1;32melse\u001b[0m\u001b[1;33m:\u001b[0m\u001b[1;33m\u001b[0m\u001b[1;33m\u001b[0m\u001b[0m\n\u001b[0;32m    424\u001b[0m       raise RuntimeError(\"__iter__() is only supported inside of tf.function \"\n",
      "\u001b[1;32m~\\anaconda3\\lib\\site-packages\\tensorflow\\python\\data\\ops\\iterator_ops.py\u001b[0m in \u001b[0;36m__init__\u001b[1;34m(self, dataset, components, element_spec)\u001b[0m\n\u001b[0;32m    680\u001b[0m       \u001b[1;32mif\u001b[0m \u001b[1;33m(\u001b[0m\u001b[0mcomponents\u001b[0m \u001b[1;32mis\u001b[0m \u001b[1;32mnot\u001b[0m \u001b[1;32mNone\u001b[0m \u001b[1;32mor\u001b[0m \u001b[0melement_spec\u001b[0m \u001b[1;32mis\u001b[0m \u001b[1;32mnot\u001b[0m \u001b[1;32mNone\u001b[0m\u001b[1;33m)\u001b[0m\u001b[1;33m:\u001b[0m\u001b[1;33m\u001b[0m\u001b[1;33m\u001b[0m\u001b[0m\n\u001b[0;32m    681\u001b[0m         \u001b[1;32mraise\u001b[0m \u001b[0mValueError\u001b[0m\u001b[1;33m(\u001b[0m\u001b[0merror_message\u001b[0m\u001b[1;33m)\u001b[0m\u001b[1;33m\u001b[0m\u001b[1;33m\u001b[0m\u001b[0m\n\u001b[1;32m--> 682\u001b[1;33m       \u001b[0mself\u001b[0m\u001b[1;33m.\u001b[0m\u001b[0m_create_iterator\u001b[0m\u001b[1;33m(\u001b[0m\u001b[0mdataset\u001b[0m\u001b[1;33m)\u001b[0m\u001b[1;33m\u001b[0m\u001b[1;33m\u001b[0m\u001b[0m\n\u001b[0m\u001b[0;32m    683\u001b[0m \u001b[1;33m\u001b[0m\u001b[0m\n\u001b[0;32m    684\u001b[0m   \u001b[1;32mdef\u001b[0m \u001b[0m_create_iterator\u001b[0m\u001b[1;33m(\u001b[0m\u001b[0mself\u001b[0m\u001b[1;33m,\u001b[0m \u001b[0mdataset\u001b[0m\u001b[1;33m)\u001b[0m\u001b[1;33m:\u001b[0m\u001b[1;33m\u001b[0m\u001b[1;33m\u001b[0m\u001b[0m\n",
      "\u001b[1;32m~\\anaconda3\\lib\\site-packages\\tensorflow\\python\\data\\ops\\iterator_ops.py\u001b[0m in \u001b[0;36m_create_iterator\u001b[1;34m(self, dataset)\u001b[0m\n\u001b[0;32m    684\u001b[0m   \u001b[1;32mdef\u001b[0m \u001b[0m_create_iterator\u001b[0m\u001b[1;33m(\u001b[0m\u001b[0mself\u001b[0m\u001b[1;33m,\u001b[0m \u001b[0mdataset\u001b[0m\u001b[1;33m)\u001b[0m\u001b[1;33m:\u001b[0m\u001b[1;33m\u001b[0m\u001b[1;33m\u001b[0m\u001b[0m\n\u001b[0;32m    685\u001b[0m     \u001b[1;31m# pylint: disable=protected-access\u001b[0m\u001b[1;33m\u001b[0m\u001b[1;33m\u001b[0m\u001b[1;33m\u001b[0m\u001b[0m\n\u001b[1;32m--> 686\u001b[1;33m     \u001b[0mdataset\u001b[0m \u001b[1;33m=\u001b[0m \u001b[0mdataset\u001b[0m\u001b[1;33m.\u001b[0m\u001b[0m_apply_options\u001b[0m\u001b[1;33m(\u001b[0m\u001b[1;33m)\u001b[0m\u001b[1;33m\u001b[0m\u001b[1;33m\u001b[0m\u001b[0m\n\u001b[0m\u001b[0;32m    687\u001b[0m \u001b[1;33m\u001b[0m\u001b[0m\n\u001b[0;32m    688\u001b[0m     \u001b[1;31m# Store dataset reference to ensure that dataset is alive when this iterator\u001b[0m\u001b[1;33m\u001b[0m\u001b[1;33m\u001b[0m\u001b[1;33m\u001b[0m\u001b[0m\n",
      "\u001b[1;32m~\\anaconda3\\lib\\site-packages\\tensorflow\\python\\data\\ops\\dataset_ops.py\u001b[0m in \u001b[0;36m_apply_options\u001b[1;34m(self)\u001b[0m\n\u001b[0;32m    395\u001b[0m           (options.experimental_optimization.apply_default_optimizations  # pylint: disable=g-bool-id-comparison\n\u001b[0;32m    396\u001b[0m            is not False)):\n\u001b[1;32m--> 397\u001b[1;33m       dataset = _OptimizeDataset(dataset, graph_rewrites.enabled,\n\u001b[0m\u001b[0;32m    398\u001b[0m                                  \u001b[0mgraph_rewrites\u001b[0m\u001b[1;33m.\u001b[0m\u001b[0mdisabled\u001b[0m\u001b[1;33m,\u001b[0m\u001b[1;33m\u001b[0m\u001b[1;33m\u001b[0m\u001b[0m\n\u001b[0;32m    399\u001b[0m                                  graph_rewrites.default, graph_rewrite_configs)\n",
      "\u001b[1;32m~\\anaconda3\\lib\\site-packages\\tensorflow\\python\\data\\ops\\dataset_ops.py\u001b[0m in \u001b[0;36m__init__\u001b[1;34m(self, input_dataset, optimizations_enabled, optimizations_disabled, optimizations_default, optimization_configs)\u001b[0m\n\u001b[0;32m   4575\u001b[0m         argument_dtype=dtypes.string)\n\u001b[0;32m   4576\u001b[0m \u001b[1;33m\u001b[0m\u001b[0m\n\u001b[1;32m-> 4577\u001b[1;33m     variant_tensor = gen_dataset_ops.optimize_dataset_v2(\n\u001b[0m\u001b[0;32m   4578\u001b[0m         \u001b[0minput_dataset\u001b[0m\u001b[1;33m.\u001b[0m\u001b[0m_variant_tensor\u001b[0m\u001b[1;33m,\u001b[0m  \u001b[1;31m# pylint: disable=protected-access\u001b[0m\u001b[1;33m\u001b[0m\u001b[1;33m\u001b[0m\u001b[0m\n\u001b[0;32m   4579\u001b[0m         \u001b[0mself\u001b[0m\u001b[1;33m.\u001b[0m\u001b[0m_optimizations_enabled\u001b[0m\u001b[1;33m,\u001b[0m\u001b[1;33m\u001b[0m\u001b[1;33m\u001b[0m\u001b[0m\n",
      "\u001b[1;32m~\\anaconda3\\lib\\site-packages\\tensorflow\\python\\ops\\gen_dataset_ops.py\u001b[0m in \u001b[0;36moptimize_dataset_v2\u001b[1;34m(input_dataset, optimizations_enabled, optimizations_disabled, optimizations_default, output_types, output_shapes, optimization_configs, name)\u001b[0m\n\u001b[0;32m   4018\u001b[0m   \u001b[1;32mif\u001b[0m \u001b[0mtld\u001b[0m\u001b[1;33m.\u001b[0m\u001b[0mis_eager\u001b[0m\u001b[1;33m:\u001b[0m\u001b[1;33m\u001b[0m\u001b[1;33m\u001b[0m\u001b[0m\n\u001b[0;32m   4019\u001b[0m     \u001b[1;32mtry\u001b[0m\u001b[1;33m:\u001b[0m\u001b[1;33m\u001b[0m\u001b[1;33m\u001b[0m\u001b[0m\n\u001b[1;32m-> 4020\u001b[1;33m       _result = pywrap_tfe.TFE_Py_FastPathExecute(\n\u001b[0m\u001b[0;32m   4021\u001b[0m         \u001b[0m_ctx\u001b[0m\u001b[1;33m,\u001b[0m \u001b[1;34m\"OptimizeDatasetV2\"\u001b[0m\u001b[1;33m,\u001b[0m \u001b[0mname\u001b[0m\u001b[1;33m,\u001b[0m \u001b[0minput_dataset\u001b[0m\u001b[1;33m,\u001b[0m \u001b[0moptimizations_enabled\u001b[0m\u001b[1;33m,\u001b[0m\u001b[1;33m\u001b[0m\u001b[1;33m\u001b[0m\u001b[0m\n\u001b[0;32m   4022\u001b[0m         \u001b[0moptimizations_disabled\u001b[0m\u001b[1;33m,\u001b[0m \u001b[0moptimizations_default\u001b[0m\u001b[1;33m,\u001b[0m \u001b[1;34m\"output_types\"\u001b[0m\u001b[1;33m,\u001b[0m\u001b[1;33m\u001b[0m\u001b[1;33m\u001b[0m\u001b[0m\n",
      "\u001b[1;31mKeyboardInterrupt\u001b[0m: "
     ]
    }
   ],
   "source": [
    "if train_flag :\n",
    "\n",
    "    checkpoint = tf.train.Checkpoint(dnn=network)\n",
    "\n",
    "    # create writer for tensorboard\n",
    "    summary_writer = tf.summary.create_file_writer(logdir=logs_dir)\n",
    "    start_time = time()\n",
    "\n",
    "    # restore check-point if it exits\n",
    "    could_load, checkpoint_counter = load(network, checkpoint_dir)    \n",
    "\n",
    "    if could_load:\n",
    "        start_epoch = (int)(checkpoint_counter / training_iterations)        \n",
    "        counter = checkpoint_counter        \n",
    "        print(\" [*] Load SUCCESS\")\n",
    "    else:\n",
    "        start_epoch = 0\n",
    "        start_iteration = 0\n",
    "        counter = 0\n",
    "        print(\" [!] Load failed...\")\n",
    "    \n",
    "    # train phase\n",
    "    with summary_writer.as_default():  # for tensorboard\n",
    "        for epoch in range(start_epoch, training_epochs):\n",
    "            for idx, (train_input, train_label) in enumerate(train_dataset):            \n",
    "                grads = grad(network, train_input, train_label)\n",
    "                optimizer.apply_gradients(grads_and_vars=zip(grads, network.variables))\n",
    "\n",
    "                train_loss = loss_fn(network, train_input, train_label)\n",
    "                train_accuracy = accuracy_fn(network, train_input, train_label)\n",
    "                \n",
    "                for test_input, test_label in test_dataset:                \n",
    "                    test_accuracy = accuracy_fn(network, test_input, test_label)\n",
    "\n",
    "                tf.summary.scalar(name='train_loss', data=train_loss, step=counter)\n",
    "                tf.summary.scalar(name='train_accuracy', data=train_accuracy, step=counter)\n",
    "                tf.summary.scalar(name='test_accuracy', data=test_accuracy, step=counter)\n",
    "\n",
    "                print(\n",
    "                    \"Epoch: [%2d] [%5d/%5d] time: %4.4f, train_loss: %.8f, train_accuracy: %.4f, test_Accuracy: %.4f\" \\\n",
    "                    % (epoch, idx, training_iterations, time() - start_time, train_loss, train_accuracy,\n",
    "                       test_accuracy))\n",
    "                counter += 1                \n",
    "        checkpoint.save(file_prefix=checkpoint_prefix + '-{}'.format(counter))\n",
    "        \n",
    "# test phase      \n",
    "else :\n",
    "    _, _ = load(network, checkpoint_dir)\n",
    "    for test_input, test_label in test_dataset:    \n",
    "        test_accuracy = accuracy_fn(network, test_input, test_label)\n",
    "\n",
    "    print(\"test_Accuracy: %.4f\" % (test_accuracy))"
   ]
  },
  {
   "cell_type": "markdown",
   "metadata": {},
   "source": [
    "### Test accuracy : 92.41 %"
   ]
  }
 ],
 "metadata": {
  "kernelspec": {
   "display_name": "Python 3",
   "language": "python",
   "name": "python3"
  },
  "language_info": {
   "codemirror_mode": {
    "name": "ipython",
    "version": 3
   },
   "file_extension": ".py",
   "mimetype": "text/x-python",
   "name": "python",
   "nbconvert_exporter": "python",
   "pygments_lexer": "ipython3",
   "version": "3.8.5"
  }
 },
 "nbformat": 4,
 "nbformat_minor": 4
}
